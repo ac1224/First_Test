{
  "nbformat": 4,
  "nbformat_minor": 0,
  "metadata": {
    "colab": {
      "name": "keras_image_recognition_ver2.ipynb",
      "version": "0.3.2",
      "provenance": [],
      "collapsed_sections": [],
      "include_colab_link": true
    },
    "kernelspec": {
      "name": "python3",
      "display_name": "Python 3"
    },
    "accelerator": "GPU"
  },
  "cells": [
    {
      "cell_type": "markdown",
      "metadata": {
        "id": "view-in-github",
        "colab_type": "text"
      },
      "source": [
        "<a href=\"https://colab.research.google.com/github/ac1224/First_Test/blob/master/keras_image_recognition_ver2.ipynb\" target=\"_parent\"><img src=\"https://colab.research.google.com/assets/colab-badge.svg\" alt=\"Open In Colab\"/></a>"
      ]
    },
    {
      "cell_type": "markdown",
      "metadata": {
        "id": "DtU8eIsOsNcv",
        "colab_type": "text"
      },
      "source": [
        "# ディープラーニングでの画像認識"
      ]
    },
    {
      "cell_type": "markdown",
      "metadata": {
        "id": "qNgUsGFZBLEh",
        "colab_type": "text"
      },
      "source": [
        "## 教師データ取得（スクレイピング）"
      ]
    },
    {
      "cell_type": "markdown",
      "metadata": {
        "id": "f4TUJLdFEUPJ",
        "colab_type": "text"
      },
      "source": [
        "必要なライブラリをインストールします"
      ]
    },
    {
      "cell_type": "code",
      "metadata": {
        "id": "B7GwX8cmEUfK",
        "colab_type": "code",
        "outputId": "234e7ad2-4079-4f41-d842-7695432a2bf1",
        "colab": {
          "base_uri": "https://localhost:8080/",
          "height": 34
        }
      },
      "source": [
        "!pip install lxml"
      ],
      "execution_count": 0,
      "outputs": [
        {
          "output_type": "stream",
          "text": [
            "Requirement already satisfied: lxml in /usr/local/lib/python3.6/dist-packages (4.2.6)\n"
          ],
          "name": "stdout"
        }
      ]
    },
    {
      "cell_type": "markdown",
      "metadata": {
        "id": "4MJRIR-pBgNv",
        "colab_type": "text"
      },
      "source": [
        "必要なライブラリをインポートします"
      ]
    },
    {
      "cell_type": "code",
      "metadata": {
        "id": "fY0aXYYQBKEY",
        "colab_type": "code",
        "colab": {}
      },
      "source": [
        "import requests\n",
        "import re\n",
        "import uuid\n",
        "from bs4 import BeautifulSoup\n",
        "import os"
      ],
      "execution_count": 0,
      "outputs": []
    },
    {
      "cell_type": "markdown",
      "metadata": {
        "id": "NZBCuRFIBkfg",
        "colab_type": "text"
      },
      "source": [
        "スクレイピングする対象と保存するディレクトリ名(image_data/xxxx/ の形式） を指定します。  \n",
        "スクレイピング対象とディレクトリ名は必ず1セットにしてください。  "
      ]
    },
    {
      "cell_type": "code",
      "metadata": {
        "id": "276_wXogByTb",
        "colab_type": "code",
        "colab": {}
      },
      "source": [
        "word = 'cat'\n",
        "images_dir = 'image_data/cat/'"
      ],
      "execution_count": 0,
      "outputs": []
    },
    {
      "cell_type": "markdown",
      "metadata": {
        "id": "ZjFZW-HsCugK",
        "colab_type": "text"
      },
      "source": [
        "スクレイピングのプログラムを実行します。"
      ]
    },
    {
      "cell_type": "code",
      "metadata": {
        "id": "TzVlyO60CBct",
        "colab_type": "code",
        "outputId": "e822630e-a6fc-459e-cd64-a66c69c58f36",
        "colab": {
          "base_uri": "https://localhost:8080/",
          "height": 717
        }
      },
      "source": [
        "if not os.path.exists(images_dir):\n",
        "    os.makedirs(images_dir)\n",
        "\n",
        "url = \"https://search.nifty.com/imagesearch/search?select=1&chartype=&q=%s&xargs=2&img.fmt=all&img.imtype=color&img.filteradult=no&img.type=all&img.dimensions=large&start=%s&num=20\"\n",
        "#pages = [1,20,40,60,80,100]\n",
        "pages = [1,20]\n",
        "\n",
        "numb = 0\n",
        "\n",
        "for p in pages:\n",
        "    r = requests.get(url%(word,p))\n",
        "    soup = BeautifulSoup(r.text,'lxml')\n",
        "    imgs = soup.find_all('img',src=re.compile('^https://msp.c.yimg.jp/yjimage'))\n",
        "    for img in imgs:\n",
        "        print('fetched ' + str(img['src']))\n",
        "        r = requests.get(img['src'])\n",
        "        with open(images_dir+str(numb)+str('.jpg'),'wb') as file:\n",
        "            file.write(r.content)\n",
        "        numb += 1"
      ],
      "execution_count": 0,
      "outputs": [
        {
          "output_type": "stream",
          "text": [
            "fetched https://msp.c.yimg.jp/yjimage?q=N3kEcdIXyLGHb4W1M2V1jk1_tGZsOVzu5K8kqOayS915XuwlLWtQ5kUflKxwEh3f5vfoKnUqjnj2nyaUiXPLRp7gyvAQ8S6WQza4hLfQJJ0v5.YAlOCpYFaJSYLTZZg7m.EB6GLClUQMSN1RmhBX4UHhkLg-&sig=13fs6cbai&x=150&y=85\n",
            "fetched https://msp.c.yimg.jp/yjimage?q=7Mqf_R8XyLG7Q1XKY1BBUjw6mqYVfPMnCiTvmCfhupN4zn8lwivR1ZDUBcpBCmZ4ca5HxbgzDv6Dvv4H4yFxqmlNrHQwarzkXoPT0tAgcxFW4gWtFUWL9gA9dMsG2wEpEXVXzsIwc06M.2q074W04eXPSeSN&sig=13gmp84e0&x=150&y=100\n",
            "fetched https://msp.c.yimg.jp/yjimage?q=l9UGqKYXyLHdZpN1A9IK.n7JAFyAbiHOb4pw.rJxRw7QY7JfSwmUlinq7f353sD1OpDnSdfebyIIFoMqtZ3MfuHjzdpOdSVkEORR8gkexw2pOjaZmgAZOy3mpT50Qg6rUfMhW43lxkX3UcODccxVcL1eG9gK&sig=13ge8slvs&x=150&y=79\n",
            "fetched https://msp.c.yimg.jp/yjimage?q=qxHiL74XyLEpcAy9JdcHBXSLWy6X8u.wM7WIsRrXVCN2oHF1MGL4z8JU9hxzPgOEKV6aeKEwGB8rO_66ASDr8Y_9qTK0AvG0fNKvz5Pn_lbfmWTD1QjNNuyHDBJLpZmPvieVkFwoi_JwDmIj8I8BKsFVW0RE&sig=13gb47dau&x=150&y=79\n",
            "fetched https://msp.c.yimg.jp/yjimage?q=30xykhAXyLG4u2EyzjSdH9uc9niwFODhLhB1O95OaOit4TwGeEIUBr52RLAOjJHOLZMcf19gkOXcuJhGDzLbPMldruj3zQMg9aAwyCfl4MILerW.VZ1qBD__MtJveTp75uZfumQjc9YXL7Hr16M46ii9Js4-&sig=13fkufqrh&x=150&y=107\n",
            "fetched https://msp.c.yimg.jp/yjimage?q=nSlpOQwXyLHJLlgNXSTUZxHeI.7S4ut72EWS1zNLqWaPnf_VHIAMn5Dq.8H.ur8i6CLupDmr7QpUUWK2on84YlrzZq85laillRm1A7nqqbVmlNJ24opPUMpFTi7p9lc8ojWsJUA9cv_jf4Qn6Z3bhCRkrKAdrPk-&sig=13i6skicp&x=150&y=150\n",
            "fetched https://msp.c.yimg.jp/yjimage?q=CrhtYmYXyLFoi4nUvoKgH.N6SQom5QgHtE8fOqSSMTPAKRRUpnRw7lXBSLfBHeudPY4leoRheeC76_b5FjL7tbc8oj6ODsfZ4jfSAnDEmXMpoCI4lOwPwR7hFH__TUt7qLEo5S2brQu0W517_9NwhJlrVTE-&sig=13f9qhgar&x=150&y=100\n",
            "fetched https://msp.c.yimg.jp/yjimage?q=KJsoKt8XyLG9FXHIao.Jvbz3Kyh1.qjhjGmPYw3aRK.L_.Gf..GdsKT6xzsxFARSqBWM1REe7Fb0UkqeuJ_A6lwMBQxN5lK.p1jBIb3rY.vWNHnDb76oIB2VXgV4nCJYGWAlpsKualtkGuXt2Aj_XRV4msQ-&sig=13fhsfgq3&x=100&y=150\n",
            "fetched https://msp.c.yimg.jp/yjimage?q=S87ST2oXyLH55oydhOZISS9JnXnzZdcVS9L8EfmJFFOvrZyWJ7X0zaUPdvvi1FaSkc3Kn.ORQPtKdwg0Rnxv.CDUkpDXlNOAbaKd_M48Ch7CCMytpYMqaXX0vpBNJyJn_LcFoUnqz9ntlcrk9q3jk6b5RDA-&sig=13f1k3084&x=150&y=101\n",
            "fetched https://msp.c.yimg.jp/yjimage?q=bh_wlQsXyLFlMlQnX58UQ0qn4TRN.uCPtcVBgweoXMKDV_uIRCyLtVr_z0IC2OUhQin0Bha4Om7HmwDPQj0JBiV4N7.Jr5xP5ZPxciYIwuPL8g.54nIcZv4DBsYoWiOpd4.J8UUN.XOz6qmwZ2ckGnd18mk-&sig=13f18ecus&x=150&y=84\n",
            "fetched https://msp.c.yimg.jp/yjimage?q=zMUxWIIXyLGX446TZy8esppJ8iitNXxh4rrpN4WLsmPLqJ7p_A7D2wt5sGdbWNCSqqrayPmdu61Ud8nLaD5C6Li9yJH_faIMB7dZ4q3R5xaIngHeb6Juha4fgtr0tGELNiO3K.4KpQAp7HAsOGOEVtW87cE-&sig=13fap6580&x=150&y=100\n",
            "fetched https://msp.c.yimg.jp/yjimage?q=pSZI_lUXyLGEaXswQWX4qpSB4qvniY76shIJ.aHZevwbQDn1SebZF430pj4XtZ7hXxnxn0WOJS2FPfxTePctlDIrZXkpCMvWT5UcHiAYEnWsQs5eC45Fh8nREfHAzvVmf4LZgCmXoErI.AS1tvsXzQQCp4Y-&sig=13fdtoa3k&x=150&y=126\n",
            "fetched https://msp.c.yimg.jp/yjimage?q=L3jMrn4XyLHUE9r4gC6qOHI137OJM8QPMrcgsEhqGcgVhzy7GkeJJWrWdvCF_AjNLvD5Cw9KGKCNtddBnCj.tda.6pCNS.xi939MVgdALUyA7q6ywNKk_OFI5fUHQaoL6BucaISS1c_GhBF5TKUCJpu1i5EL&sig=13gm9io8r&x=150&y=101\n",
            "fetched https://msp.c.yimg.jp/yjimage?q=wFPFm00XyLE4CiGNTZuifELau4QOTcckuVtYstZKXK.bAkpjR2pxPMN.Gi0tzt1GwdTvlBgBeEj7VUNrE0qdP_6MlYxkED7nS66pU0MpVs88LXlf9LBayT.CbeLfqzj0ps3zsiOY8FYVatVEbsRKfLtcm1ks&sig=13gpq320v&x=150&y=94\n",
            "fetched https://msp.c.yimg.jp/yjimage?q=kq7cAhoXyLEbPF4_5eksXsiMoYRf1hrBLLSyL0Rr5qYkLj3esqHOiywmlxHIutlUCuv5iyfDT8mKG.ZlSRWn8XIZ4yqnhnZAY0dJ3P9rdNDOyTqd9cQPsrVbldmGm92c1nLV_J0Kfvw9SKHj7G9Y9G9Sj8fc&sig=13gau74cf&x=150&y=100\n",
            "fetched https://msp.c.yimg.jp/yjimage?q=nkRFuywXyLGdYZXPeWS58UCVah5spuHAeyV14kUzL5N2HuLnoOFvuNKBJjtrSi0MYky7zagfcmwhBa9yAS8w9OeXbs5Waw8Y9jhEuwU38vqjVanUu.akwa4O7FseVJt90Yxi1hhnORoWoKa5Qg7RTsB4szw-&sig=13f3faoul&x=150&y=94\n",
            "fetched https://msp.c.yimg.jp/yjimage?q=K8OY_0sXyLFgonigfElNR10vDAKM0BxfwC9KacrTsyyM3K8I8TDZzQ1lRBmPCq_TXm2qevnBOebvYnE8WnvSq4Sx1jel6fQZNhDZWHyiWUJhLRBu8IsK8w9mthuEL8f7J4cZZdJJSraIftdxHc6XxY_7uKaa&sig=13gbk5rpr&x=150&y=100\n",
            "fetched https://msp.c.yimg.jp/yjimage?q=Are0UUgXyLG496on_JNMlkZWsUZ1JGaFDiK9q7FTKMcHweS0vwzAB1wvXFxUa15DlGTMB4h5OZT7lAJFO5jbYhkwvsQtd7dcslpIvXZC44OiWLiRuc4iRWzC0nujc90EARIrdjo30vsUmeJKSRjjVzN9BkA-&sig=13fk8bkva&x=150&y=100\n",
            "fetched https://msp.c.yimg.jp/yjimage?q=woHySsMXyLG3OvUBB1EzGAuZ7IvN9tg87HcPp6snVgWFk628m1g7m6XXrTHRSLghhySEHIcCyUh9f45_10YG8acZtvIaZFXda3mZ2F4xRETNKzWNinpqkOs4edtFATpWBuxsV9O3j8IZMG3U15mweHsX4a3x&sig=13gjrt3vj&x=150&y=100\n",
            "fetched https://msp.c.yimg.jp/yjimage?q=XMQMAl4XyLF_iALGXOTl6CzLJ6ZhsAmbhH7n3kkNVNmFRKTw9fm_MvPHRzW_SLrg3IPeqgqIGcZVUjB3g4jc.XPMu448__roKd5q9dARlG0G2vbI0Ve_AMHP4d8C0h4cviqPW2IhQ0f_JqydNiSsd2tJJm_d&sig=13ghqpb4h&x=150&y=100\n",
            "fetched https://msp.c.yimg.jp/yjimage?q=XMQMAl4XyLF_iALGXOTl6CzLJ6ZhsAmbhH7n3kkNVNmFRKTw9fm_MvPHRzW_SLrg3IPeqgqIGcZVUjB3g4jc.XPMu448__roKd5q9dARlG0G2vbI0Ve_AMHP4d8C0h4cviqPW2IhQ0f_JqydNiSsd2tJJm_d&sig=13ghqpb4h&x=150&y=100\n",
            "fetched https://msp.c.yimg.jp/yjimage?q=t6GBKXIXyLFyWk4JaiVabhal2KcD1jN9CiSPfTC9.DkBshJTRj2jRxk7sDz2LBqx4teeKNYyW5iZwrvt_iVt6_SS6Pour57Bw5RDVYFQF4Cqqw1cuuXPpW7giMeP2P65HEakKCh3m6SMVXA89RRlS3IAacvL&sig=13gf729q4&x=150&y=107\n",
            "fetched https://msp.c.yimg.jp/yjimage?q=pV9poo0XyLH_jU4WuWdmk1qg80cQghTmrx4GwJckcMvwC2UNZZejHcR2PlndOp8PQMN8VfemjE7i7vUZVZ8wn_.cLbpG2wM2B4j6S0QG3hOG7nF4n3t8tvWx4P0JcIgZGZAey_vG.UFvmNc4RId9OVJPf1Mp&sig=13gjqkpp0&x=150&y=79\n",
            "fetched https://msp.c.yimg.jp/yjimage?q=fi.4IOEXyLGmYPW.2XyDyv3XfMcXdzJGbVLMpdXFLP4rn0kugvn7bQhHjq1JVAqz_v5dv5nZZPxAhfXpkaOQZZG5Xx5xjcy1a0G7afb250cAAGXiPfRYwZ6kx3KQbdLVE7oECdMlilkf59f_r2qEzyTZU0xw&sig=13gifrei1&x=150&y=113\n",
            "fetched https://msp.c.yimg.jp/yjimage?q=kQ1FmYwXyLHuto6M8nx4LyXmbuYLouJ1UCkWCcNyMazifmk4Mi_3RNI46huEys2.igZ5lAvjHxNT6MQC86AhMIXIwUqy8L.l4urga8aG5AowElR2g3IEEFzkdjBsL3Q_yfQYh3gMI.ZvVaEoDxHYqUjDIhYi&sig=13gfeko3k&x=150&y=121\n",
            "fetched https://msp.c.yimg.jp/yjimage?q=MOYysmQXyLHNlxonQPd9GHc5ARwK6xtIKd5iDxbA.n6m5oOkJ3yEjvOY8Kf0d11AEsRsMO8FsL4DkBKmgD.T4qd0tO_RTOscXKJ.W7fGpZHGUDnz.oug6scjWEhXrg10HHaZMXYgO6UDE4FyrMqM98TmlW4-&sig=13fts16m8&x=150&y=81\n",
            "fetched https://msp.c.yimg.jp/yjimage?q=sSgK6jIXyLHdA_8Gz4YnSCjeQ6beVcdGZ2yv97HzhVF8XGqpxYDBgvqRvvBNWFGwtf4amYUTQ8PUydr.bYRoJRWyngB8nQdRzTT.8wA2r8_Pn1N8TTieKEkic9gz_iwFlXIHVtlBEKnxZifLcmAYC1Ywzwbt&sig=13gnfunue&x=150&y=100\n",
            "fetched https://msp.c.yimg.jp/yjimage?q=x7.d.VkXyLFk.GRGk25goUTzZw6nRTGvkKxQFsi.2N9FZluDeSy9gDmlgXxdbKaLZGPfZqOt97haNFK1gGzl2E8fLmbTm0oXta8rfH5tG1snVFtqms4DjIQR4iRqJkq4.5E9mJdBbIdexClG90koIrtvXY8-&sig=13f5nre3q&x=150&y=113\n",
            "fetched https://msp.c.yimg.jp/yjimage?q=A9hJMOIXyLG_L.3B3Rc6PAMSW3G5HnHNOQUET6pA9zp5jj1wm96ORA.jTvmIIKhzZ9uX4YFUogH0JRx2SRVh3Xuf19kn0VFJo_0OotJlon8cV8yBL4mRTKPRdU1soSljFN4q6quj0j.MTs4ZqPsgHiqgV96k&sig=13g9lr1cf&x=150&y=113\n",
            "fetched https://msp.c.yimg.jp/yjimage?q=3Vu56RUXyLHrs40rs6KR1VSXa2x6O9qmA45XFpv9kGDfdv4Rh7q68nQt8JJEDnmwuZuKKynMW71hXGOpFAeAG0l1OtEWFz2_MH7YqZ.eX3dCBB.KdgmbjWxIigbL33JVskExkCZzL79RJfo5DWEjnikGRk3d74Q-&sig=13inaptrt&x=144&y=150\n",
            "fetched https://msp.c.yimg.jp/yjimage?q=.GrC.XIXyLF2kUXBc8CUD6x4XmrQYNUae2ZB_Mm4eomFx0cwqxBuEan35dMkidwkw2bWBjC0BVwYIui6zhII1d4xxrgrZrIfVbey3LAZA1s5mqCO9.VTfO5Xg24_325IkAWjGMd90VlzY8ylAH2C0KozvymX&sig=13gmu9l5p&x=150&y=84\n",
            "fetched https://msp.c.yimg.jp/yjimage?q=qhJ447YXyLGfKMtrDKmqLRnmBtH9HYKK0ngUilKEHmaSPpzqyqVyxMUvz4_h2kroQ5wQlfZvFoLcDAxdH9IY0XkPZKc0c1714Uo9lKUabRTTodZKgw2JJEtFyo0cJVeYGbhAyUItn1eK0BmnIhjWS.hhVrZG&sig=13g12hp4c&x=150&y=106\n",
            "fetched https://msp.c.yimg.jp/yjimage?q=IhwLkgEXyLEmftMu4sG2LotI9n04tlu0w3RLsBqPUUf9VCCQTSzbQAMKllp4uuSUrOOUgqBFYixWcYns3D8OuqKr1LntADa6b3lfeyltC_1AkLRgeL3LafQ.SBLbkdsSRyj6S5_EEJZeY9av6ILMjAtJKXVi&sig=13gk9dlpi&x=150&y=113\n",
            "fetched https://msp.c.yimg.jp/yjimage?q=pnA3qywXyLEIIixBs2h7P7bbdX5ZwVIX1l_jkteo9d6BQ6XtWTdt37VlCg1nvXCfVFuvv2UtPAWlFmNUFzbNgmK9mlcfWDIRjrzzKWwvvhJJmPIWLYiT42yi7bRDvpogFOoWfB1J7zpo5bTBd7rcz2M5tPNW&sig=13glnh0mc&x=112&y=150\n",
            "fetched https://msp.c.yimg.jp/yjimage?q=X8diDzAXyLEsmUwXEIlU7GjduFZZ71.WYGETQRA2PZSagrkM_UgOQbjpPb9Jft34KnbUp3FiJqfeFRbpiAez4JbRuwTfwWr2F_aD13cF.kZbo7OMG8Ve7deOimYudWZCNOM0nwdnAa2Dwa1kA7BKKFKF5gA-&sig=13ff65kmt&x=150&y=115\n",
            "fetched https://msp.c.yimg.jp/yjimage?q=icxxUXQXyLE_LvOSzL5vwXdjRz6UtKkAs83xSoEalftNNYPtWTSwUWIxQdUkTfGthD2eN95LiAY_Ey2vgQLljkN5e8pugvMjSoZzPeajDAjlAfk82xa.ObCg4mSsEtuAiqfRQm7kL4TGXpWb0kPely8nsjm8&sig=13gme1uc1&x=150&y=105\n",
            "fetched https://msp.c.yimg.jp/yjimage?q=chvI57IXyLEACConjG9reGlmChkWo06cEeCc_1FyIw8jh0j7FXHfLIweRnEXt4rZkZQAGn7GLOuNU4VpfnlC9vSCjcgs72C1eMGlmONBbu2ua.CJyX8G.j8eInVjQe.GywlhEA.TG4vXSYrlw0Q6dsFqkAEe&sig=13gsodec3&x=150&y=84\n",
            "fetched https://msp.c.yimg.jp/yjimage?q=USPRpe4XyLH.8.r2sTV99IcFgR8U89rcrp6RlLIEIzPwWtXzPHJjigGrhRq7DjaT7HBcje9S6zv4JkvjiJ8IjpbQFy0WqZajSffPFOrrU9qOmxqaWWUFA506eSHHorouSz6Sha_E32IDS5g97hC.LtlI_d4-&sig=13f4em8cl&x=150&y=100\n",
            "fetched https://msp.c.yimg.jp/yjimage?q=3kNOBVoXyLFflezlQfJly1esV5xWDmTV1XijKcuBlYf5RTpX4drrKnvhUU0WU2riw8SMBvtcXHFQiW1aKC8VHXxMKXjUeerQiErmGYu1Vg7Oi7nxxcRY2AIKxXhIcXgufiIbFM87PMPz6aFb4LaxCCVcdxk2&sig=13gcnbji4&x=134&y=150\n",
            "fetched https://msp.c.yimg.jp/yjimage?q=CLNM.KcXyLETsqyace2j7_p0ImNZ5FFHkamxUkUuh5usojGMc.h0QNGY9PWwWiTqIZvv_c_D1Fzdugea3Q9K94tCx8lBiTgsQ35xXluuCivFQq4GkDDTE4xb.3RU.skxiQSji2Tq_xOuJYW1BqTFQNZ5wiJf&sig=13g3pdl0e&x=150&y=102\n"
          ],
          "name": "stdout"
        }
      ]
    },
    {
      "cell_type": "markdown",
      "metadata": {
        "id": "YzQMYeTVB1ej",
        "colab_type": "text"
      },
      "source": [
        "検索する単語と保存するディレクトリを変えて、数回繰り返します。  \n",
        "以下は3回繰り返したものとして進めます"
      ]
    },
    {
      "cell_type": "markdown",
      "metadata": {
        "id": "L_qvPTrAGE5r",
        "colab_type": "text"
      },
      "source": [
        "ディレクトリの確認します"
      ]
    },
    {
      "cell_type": "code",
      "metadata": {
        "id": "RyOp248ZDO2q",
        "colab_type": "code",
        "outputId": "fb76ddac-5d23-40c9-885f-4d606ce4c831",
        "colab": {
          "base_uri": "https://localhost:8080/",
          "height": 34
        }
      },
      "source": [
        "!ls image_data"
      ],
      "execution_count": 0,
      "outputs": [
        {
          "output_type": "stream",
          "text": [
            "camera\tcat\n"
          ],
          "name": "stdout"
        }
      ]
    },
    {
      "cell_type": "markdown",
      "metadata": {
        "id": "ttiUaYs1GHir",
        "colab_type": "text"
      },
      "source": [
        "ディレクトリの中身を確認します"
      ]
    },
    {
      "cell_type": "code",
      "metadata": {
        "id": "8scEm-neGPXw",
        "colab_type": "code",
        "outputId": "6037f893-a771-448f-de83-25aa8878f84d",
        "colab": {
          "base_uri": "https://localhost:8080/",
          "height": 85
        }
      },
      "source": [
        "!ls image_data/cat"
      ],
      "execution_count": 0,
      "outputs": [
        {
          "output_type": "stream",
          "text": [
            "0.jpg\t13.jpg\t17.jpg\t20.jpg\t24.jpg\t28.jpg\t31.jpg\t35.jpg\t39.jpg\t6.jpg\n",
            "10.jpg\t14.jpg\t18.jpg\t21.jpg\t25.jpg\t29.jpg\t32.jpg\t36.jpg\t3.jpg\t7.jpg\n",
            "11.jpg\t15.jpg\t19.jpg\t22.jpg\t26.jpg\t2.jpg\t33.jpg\t37.jpg\t4.jpg\t8.jpg\n",
            "12.jpg\t16.jpg\t1.jpg\t23.jpg\t27.jpg\t30.jpg\t34.jpg\t38.jpg\t5.jpg\t9.jpg\n"
          ],
          "name": "stdout"
        }
      ]
    },
    {
      "cell_type": "markdown",
      "metadata": {
        "id": "gylGAzHhGBdE",
        "colab_type": "text"
      },
      "source": [
        "画像の中身を確認します"
      ]
    },
    {
      "cell_type": "code",
      "metadata": {
        "id": "Y46vZOgoGWWo",
        "colab_type": "code",
        "outputId": "40b21a3c-fae9-4f1b-cc3b-b3df2eb060aa",
        "colab": {
          "base_uri": "https://localhost:8080/",
          "height": 102
        }
      },
      "source": [
        "from IPython.display import Image,display_jpeg\n",
        "display_jpeg(Image('image_data/cat/0.jpg'))"
      ],
      "execution_count": 0,
      "outputs": [
        {
          "output_type": "display_data",
          "data": {
            "image/jpeg": "[encoded data removed]"
          },
          "metadata": {
            "tags": []
          }
        }
      ]
    },
    {
      "cell_type": "markdown",
      "metadata": {
        "id": "roHDM7MB1w9S",
        "colab_type": "text"
      },
      "source": [
        "## ラベルファイルの作成"
      ]
    },
    {
      "cell_type": "markdown",
      "metadata": {
        "id": "VSq7-H5b2DVx",
        "colab_type": "text"
      },
      "source": [
        "学習するファイルのラベルを作成します"
      ]
    },
    {
      "cell_type": "markdown",
      "metadata": {
        "id": "UN5gSnfyz7Tp",
        "colab_type": "text"
      },
      "source": [
        "必要なライブラリをインポートします"
      ]
    },
    {
      "cell_type": "code",
      "metadata": {
        "id": "ZRQkx3zp1Pwt",
        "colab_type": "code",
        "colab": {}
      },
      "source": [
        "import sys\n",
        "import os\n",
        "import subprocess"
      ],
      "execution_count": 0,
      "outputs": []
    },
    {
      "cell_type": "markdown",
      "metadata": {
        "id": "ZjsFU39e3ncO",
        "colab_type": "text"
      },
      "source": [
        "データを保存する場所を指定します"
      ]
    },
    {
      "cell_type": "code",
      "metadata": {
        "id": "7UhMCgO53m4M",
        "colab_type": "code",
        "colab": {}
      },
      "source": [
        "backup_dir = './model'"
      ],
      "execution_count": 0,
      "outputs": []
    },
    {
      "cell_type": "markdown",
      "metadata": {
        "id": "WKkS5ed_Jx6c",
        "colab_type": "text"
      },
      "source": [
        "ラベルデータを作成します（最後に表示される class numberが画像の種類の数です）"
      ]
    },
    {
      "cell_type": "code",
      "metadata": {
        "id": "oIhpFWwJ1Reb",
        "colab_type": "code",
        "outputId": "011d8185-7e34-4d21-f189-fc1d549e69a4",
        "colab": {
          "base_uri": "https://localhost:8080/",
          "height": 34
        }
      },
      "source": [
        "def cmd(cmd):\n",
        "    p = subprocess.Popen(cmd, shell=True, stdout=subprocess.PIPE, stderr=subprocess.PIPE)\n",
        "    p.wait()\n",
        "    stdout, stderr = p.communicate()\n",
        "    return stdout.rstrip()\n",
        "\n",
        "dirs = cmd(\"ls \"+\"./image_data\")\n",
        "labels = dirs.splitlines()\n",
        "\n",
        "if os.path.exists(backup_dir):\n",
        "    cmd(\"rm  -rf \"+backup_dir)\n",
        "\n",
        "# make directories\n",
        "os.makedirs(backup_dir)\n",
        "\n",
        "\n",
        "labelsTxt_backup = open(backup_dir + '/labels.txt','w')\n",
        "\n",
        "classNo=0\n",
        "for label in labels:\n",
        "    labelsTxt_backup.write(label.decode('utf-8')+\"\\n\")\n",
        "\n",
        "    classNo += 1\n",
        "\n",
        "NUM_CLASSES = classNo\n",
        "print(\"class number=\" + str(NUM_CLASSES))\n",
        "\n",
        "labelsTxt_backup.close()"
      ],
      "execution_count": 0,
      "outputs": [
        {
          "output_type": "stream",
          "text": [
            "class number=2\n"
          ],
          "name": "stdout"
        }
      ]
    },
    {
      "cell_type": "markdown",
      "metadata": {
        "id": "CzE-lgUNJ3e8",
        "colab_type": "text"
      },
      "source": [
        "ラベルを確認します。ラベル名（camera, dog等）が並んでいればOKです"
      ]
    },
    {
      "cell_type": "code",
      "metadata": {
        "id": "ZRBOzF1i6HnT",
        "colab_type": "code",
        "outputId": "2ba05f0b-db86-41ef-94d4-a2246d9e536f",
        "colab": {
          "base_uri": "https://localhost:8080/",
          "height": 51
        }
      },
      "source": [
        "!cat ./model/labels.txt"
      ],
      "execution_count": 0,
      "outputs": [
        {
          "output_type": "stream",
          "text": [
            "camera\n",
            "cat\n"
          ],
          "name": "stdout"
        }
      ]
    },
    {
      "cell_type": "markdown",
      "metadata": {
        "id": "fLcN1JHv2Q6g",
        "colab_type": "text"
      },
      "source": [
        "## 学習"
      ]
    },
    {
      "cell_type": "markdown",
      "metadata": {
        "id": "nhCsS7vJwb10",
        "colab_type": "text"
      },
      "source": [
        "TensorFlowとKerasは最初からインストールされているので、インストールは不要です（現在、pipでtensorflowをインストールし直すと動作しなくなる現象が見られるので注意下さい）"
      ]
    },
    {
      "cell_type": "code",
      "metadata": {
        "id": "NwBqR8dj6XoQ",
        "colab_type": "code",
        "colab": {}
      },
      "source": [
        "import keras\n",
        "from keras.utils import np_utils\n",
        "from keras.layers.convolutional import Conv2D, MaxPooling2D\n",
        "from keras.models import Sequential\n",
        "from keras.layers.core import Dense, Dropout, Activation, Flatten\n",
        "from keras.preprocessing.image import array_to_img, img_to_array, load_img\n",
        "from keras import optimizers\n",
        "import numpy as np\n",
        "import pandas as pd\n",
        "from sklearn.model_selection import train_test_split\n",
        "import matplotlib.pyplot as plt\n",
        "import time"
      ],
      "execution_count": 0,
      "outputs": []
    },
    {
      "cell_type": "markdown",
      "metadata": {
        "id": "5oGVtDBQ7RSR",
        "colab_type": "text"
      },
      "source": [
        "バージョンアップで無くなってしまった関数を実装\n",
        "以下参照\n",
        "\n",
        "https://github.com/keras-team/keras-preprocessing/blob/59e01a51ef6a38b63f4e7641469fc4280881532d/keras_preprocessing/image/utils.py\n",
        "\n",
        "https://teratail.com/questions/131"
      ]
    },
    {
      "cell_type": "code",
      "metadata": {
        "id": "Grl-4YUt64sN",
        "colab_type": "code",
        "colab": {}
      },
      "source": [
        "def list_pictures(directory, ext=('jpg', 'jpeg', 'bmp', 'png', 'ppm', 'tif',\n",
        "                                  'tiff')):\n",
        "    \"\"\"Lists all pictures in a directory, including all subdirectories.\n",
        "    # Arguments\n",
        "        directory: string, absolute path to the directory\n",
        "        ext: tuple of strings or single string, extensions of the pictures\n",
        "    # Returns\n",
        "        a list of paths\n",
        "    \"\"\"\n",
        "    ext = tuple('.%s' % e for e in ((ext,) if isinstance(ext, str) else ext))\n",
        "    return [os.path.join(root, f)\n",
        "            for root, _, files in os.walk(directory) for f in files\n",
        "            if f.lower().endswith(ext)]"
      ],
      "execution_count": 0,
      "outputs": []
    },
    {
      "cell_type": "markdown",
      "metadata": {
        "id": "x2EHiUvxQohn",
        "colab_type": "text"
      },
      "source": [
        "必要なライブラリをインポートします"
      ]
    },
    {
      "cell_type": "markdown",
      "metadata": {
        "id": "5YCbWtD-FUdN",
        "colab_type": "text"
      },
      "source": [
        "ラベルファイルを読み込みます"
      ]
    },
    {
      "cell_type": "code",
      "metadata": {
        "id": "ijn0_IttFXvn",
        "colab_type": "code",
        "outputId": "03d6e13b-0338-42bc-bb73-0a2540848610",
        "colab": {
          "base_uri": "https://localhost:8080/",
          "height": 34
        }
      },
      "source": [
        "labels = []\n",
        "with open(backup_dir + '/labels.txt','r') as f:\n",
        "    for line in f:\n",
        "        labels.append(line.rstrip())\n",
        "print(labels)"
      ],
      "execution_count": 0,
      "outputs": [
        {
          "output_type": "stream",
          "text": [
            "['camera', 'cat']\n"
          ],
          "name": "stdout"
        }
      ]
    },
    {
      "cell_type": "markdown",
      "metadata": {
        "id": "DxGig4g0FeQH",
        "colab_type": "text"
      },
      "source": [
        "教師データを読み込みます"
      ]
    },
    {
      "cell_type": "code",
      "metadata": {
        "id": "U07nqrP5FgH7",
        "colab_type": "code",
        "outputId": "58756fe0-5097-4d9d-c0d9-f2345c92bc1c",
        "colab": {
          "base_uri": "https://localhost:8080/",
          "height": 51
        }
      },
      "source": [
        "X = []\n",
        "Y = []\n",
        "\n",
        "# 対象Aの画像\n",
        "label_num = 0\n",
        "for label in labels:\n",
        "    print(label)\n",
        "    for picture in list_pictures('./image_data/' + label):\n",
        "        img = img_to_array(load_img(picture, target_size=(64,64)))\n",
        "        X.append(img)\n",
        "\n",
        "        Y.append(label_num)\n",
        "        \n",
        "    label_num += 1"
      ],
      "execution_count": 0,
      "outputs": [
        {
          "output_type": "stream",
          "text": [
            "camera\n",
            "cat\n"
          ],
          "name": "stdout"
        }
      ]
    },
    {
      "cell_type": "markdown",
      "metadata": {
        "id": "A3JvYFVAFv2w",
        "colab_type": "text"
      },
      "source": [
        "次にデータ変換を行います。TensorFlowの形式に合うようにフォーマットを変換しているだけですので、ここは最初は、「画像だとこういう変換が必要」くらいの理解でかまいません。\n",
        "最初の2行は、X（画像情報）のRGB値が0〜255までなのを0〜1までの範囲に変換（正規化）しています。\n",
        "up_utils.to_categoricalは、ラベルのデータ変換（One-Hot表現）を行う関数です。One-Hotとは、ラベルを数値ではなく、0or1を要素に持つベクトルで扱うことです。つまり、今回の3つのラベルに対してのOne-Hotは、あるサンプルに対するターゲットが「1」のとき、[1, 0, 0]、「2」のときは[0, 1 , 0]、「3」のときは[0, 0, 1]となる表現です。"
      ]
    },
    {
      "cell_type": "code",
      "metadata": {
        "id": "OTIFCbz7FyjL",
        "colab_type": "code",
        "outputId": "66ab31d7-d190-48c1-aa41-4f592a083234",
        "colab": {
          "base_uri": "https://localhost:8080/",
          "height": 51
        }
      },
      "source": [
        "# arrayに変換\n",
        "X = np.asarray(X)\n",
        "Y = np.asarray(Y)\n",
        "\n",
        "# debug\n",
        "print(X.shape)\n",
        "print(Y.shape)\n",
        "\n",
        "# 画素値を0から1の範囲に変換\n",
        "X = X.astype('float32')\n",
        "X = X / 255.0\n",
        "\n",
        "# クラスの形式を変換\n",
        "Y = np_utils.to_categorical(Y, NUM_CLASSES)\n",
        "\n",
        "# 学習用データとテストデータ\n",
        "X_train, X_test, y_train, y_test = train_test_split(X, Y, test_size=0.33, random_state=111)"
      ],
      "execution_count": 0,
      "outputs": [
        {
          "output_type": "stream",
          "text": [
            "(80, 64, 64, 3)\n",
            "(80,)\n"
          ],
          "name": "stdout"
        }
      ]
    },
    {
      "cell_type": "markdown",
      "metadata": {
        "id": "njlXCsDLcvNS",
        "colab_type": "text"
      },
      "source": [
        "学習パラメータの設定をします"
      ]
    },
    {
      "cell_type": "code",
      "metadata": {
        "id": "Nmak7YOac0mJ",
        "colab_type": "code",
        "colab": {}
      },
      "source": [
        "# 学習率\n",
        "LEARNING_RATE = 0.001\n",
        "# バッチサイズ\n",
        "BATCH_SIZE = 5\n",
        "# エポック（世代数）\n",
        "EPOCHS = 100"
      ],
      "execution_count": 0,
      "outputs": []
    },
    {
      "cell_type": "markdown",
      "metadata": {
        "id": "uHZhFZp22I1K",
        "colab_type": "text"
      },
      "source": [
        "ニューラルネットワーク（CNN）の定義をします"
      ]
    },
    {
      "cell_type": "code",
      "metadata": {
        "id": "2W57_jd8K8Ox",
        "colab_type": "code",
        "outputId": "63a5d4eb-d61f-4832-d911-c51ddb7aab46",
        "colab": {
          "base_uri": "https://localhost:8080/",
          "height": 139
        }
      },
      "source": [
        "model = Sequential()\n",
        "\n",
        "model.add(Conv2D(32, (3, 3), padding='same', \n",
        "                 input_shape=X_train.shape[1:]))\n",
        "model.add(Activation('relu'))\n",
        "model.add(Conv2D(64, (3, 3)))\n",
        "model.add(Activation('relu'))\n",
        "model.add(MaxPooling2D(pool_size=(2, 2)))\n",
        "model.add(Dropout(0.25))\n",
        "\n",
        "model.add(Flatten())\n",
        "model.add(Dense(128))\n",
        "model.add(Activation('relu'))\n",
        "model.add(Dropout(0.5))\n",
        "model.add(Dense(NUM_CLASSES))\n",
        "model.add(Activation('softmax'))\n",
        "\n",
        "sgd = optimizers.SGD(lr=LEARNING_RATE)\n",
        "\n",
        "model.compile(loss='categorical_crossentropy',\n",
        "              optimizer='SGD',\n",
        "              metrics=['accuracy'])"
      ],
      "execution_count": 0,
      "outputs": [
        {
          "output_type": "stream",
          "text": [
            "WARNING:tensorflow:From /usr/local/lib/python3.6/dist-packages/tensorflow/python/framework/op_def_library.py:263: colocate_with (from tensorflow.python.framework.ops) is deprecated and will be removed in a future version.\n",
            "Instructions for updating:\n",
            "Colocations handled automatically by placer.\n",
            "WARNING:tensorflow:From /usr/local/lib/python3.6/dist-packages/keras/backend/tensorflow_backend.py:3445: calling dropout (from tensorflow.python.ops.nn_ops) with keep_prob is deprecated and will be removed in a future version.\n",
            "Instructions for updating:\n",
            "Please use `rate` instead of `keep_prob`. Rate should be set to `rate = 1 - keep_prob`.\n"
          ],
          "name": "stdout"
        }
      ]
    },
    {
      "cell_type": "markdown",
      "metadata": {
        "id": "01E8ayYiGL9T",
        "colab_type": "text"
      },
      "source": [
        "モデルの概要を確認します"
      ]
    },
    {
      "cell_type": "code",
      "metadata": {
        "id": "5pAr9iyrGNWI",
        "colab_type": "code",
        "outputId": "856a7ae6-75bf-4e08-9f48-22ddd3dfa967",
        "colab": {
          "base_uri": "https://localhost:8080/",
          "height": 544
        }
      },
      "source": [
        "model.summary()"
      ],
      "execution_count": 0,
      "outputs": [
        {
          "output_type": "stream",
          "text": [
            "_________________________________________________________________\n",
            "Layer (type)                 Output Shape              Param #   \n",
            "=================================================================\n",
            "conv2d_1 (Conv2D)            (None, 64, 64, 32)        896       \n",
            "_________________________________________________________________\n",
            "activation_1 (Activation)    (None, 64, 64, 32)        0         \n",
            "_________________________________________________________________\n",
            "conv2d_2 (Conv2D)            (None, 62, 62, 64)        18496     \n",
            "_________________________________________________________________\n",
            "activation_2 (Activation)    (None, 62, 62, 64)        0         \n",
            "_________________________________________________________________\n",
            "max_pooling2d_1 (MaxPooling2 (None, 31, 31, 64)        0         \n",
            "_________________________________________________________________\n",
            "dropout_1 (Dropout)          (None, 31, 31, 64)        0         \n",
            "_________________________________________________________________\n",
            "flatten_1 (Flatten)          (None, 61504)             0         \n",
            "_________________________________________________________________\n",
            "dense_1 (Dense)              (None, 128)               7872640   \n",
            "_________________________________________________________________\n",
            "activation_3 (Activation)    (None, 128)               0         \n",
            "_________________________________________________________________\n",
            "dropout_2 (Dropout)          (None, 128)               0         \n",
            "_________________________________________________________________\n",
            "dense_2 (Dense)              (None, 2)                 258       \n",
            "_________________________________________________________________\n",
            "activation_4 (Activation)    (None, 2)                 0         \n",
            "=================================================================\n",
            "Total params: 7,892,290\n",
            "Trainable params: 7,892,290\n",
            "Non-trainable params: 0\n",
            "_________________________________________________________________\n"
          ],
          "name": "stdout"
        }
      ]
    },
    {
      "cell_type": "markdown",
      "metadata": {
        "id": "RXUIXQZ_ccpc",
        "colab_type": "text"
      },
      "source": [
        "学習してモデルと結果を保存します  \n",
        "lossがnanになったら学習失敗しているのでやり直して下さい。何度試してもダメな場合は、スクレイピングからやり直して下さい。  \n",
        "lossが十分小さくなればOKです。学習時間は10分程度です"
      ]
    },
    {
      "cell_type": "code",
      "metadata": {
        "id": "z4ga3NheGtYx",
        "colab_type": "code",
        "outputId": "02fa16f6-2ecb-430c-b093-850e1053ec8a",
        "colab": {
          "base_uri": "https://localhost:8080/",
          "height": 6922
        }
      },
      "source": [
        "# モデルの保存\n",
        "model_json_str = model.to_json()\n",
        "with open(backup_dir + '/mnist_deep_model.json', 'w') as f:\n",
        "    f.write(model_json_str)\n",
        "\n",
        "# 重みデータのバックアップ\n",
        "cb_cp = keras.callbacks.ModelCheckpoint(backup_dir + '/weights.{epoch:02d}.hdf5', verbose=1, save_weights_only=True)\n",
        "# TensorBoard用のデータ\n",
        "cb_tf = keras.callbacks.TensorBoard(log_dir=backup_dir + '/tensorBoard', histogram_freq=0)\n",
        "\n",
        "start = time.time()\n",
        "\n",
        "history = model.fit(X_train, y_train, batch_size=BATCH_SIZE, epochs=EPOCHS,\n",
        "                   validation_data = (X_test, y_test), verbose = 1,  callbacks=[cb_cp, cb_tf])\n",
        "\n",
        "elapsed_time = time.time() - start\n",
        "print (\"elapsed_time:{0}\".format(elapsed_time) + \"[sec]\")"
      ],
      "execution_count": 0,
      "outputs": [
        {
          "output_type": "stream",
          "text": [
            "WARNING:tensorflow:From /usr/local/lib/python3.6/dist-packages/tensorflow/python/ops/math_ops.py:3066: to_int32 (from tensorflow.python.ops.math_ops) is deprecated and will be removed in a future version.\n",
            "Instructions for updating:\n",
            "Use tf.cast instead.\n",
            "Train on 53 samples, validate on 27 samples\n",
            "Epoch 1/100\n",
            "53/53 [==============================] - 3s 58ms/step - loss: 0.8675 - acc: 0.3396 - val_loss: 0.6927 - val_acc: 0.4815\n",
            "\n",
            "Epoch 00001: saving model to ./model/weights.01.hdf5\n",
            "Epoch 2/100\n",
            "53/53 [==============================] - 0s 3ms/step - loss: 0.6708 - acc: 0.5660 - val_loss: 0.6722 - val_acc: 0.6296\n",
            "\n",
            "Epoch 00002: saving model to ./model/weights.02.hdf5\n",
            "Epoch 3/100\n",
            "53/53 [==============================] - 0s 3ms/step - loss: 0.6490 - acc: 0.6226 - val_loss: 0.6544 - val_acc: 0.7037\n",
            "\n",
            "Epoch 00003: saving model to ./model/weights.03.hdf5\n",
            "Epoch 4/100\n",
            "53/53 [==============================] - 0s 3ms/step - loss: 0.5524 - acc: 0.7736 - val_loss: 0.6892 - val_acc: 0.5556\n",
            "\n",
            "Epoch 00004: saving model to ./model/weights.04.hdf5\n",
            "Epoch 5/100\n",
            "53/53 [==============================] - 0s 3ms/step - loss: 0.5874 - acc: 0.6792 - val_loss: 0.6254 - val_acc: 0.5926\n",
            "\n",
            "Epoch 00005: saving model to ./model/weights.05.hdf5\n",
            "Epoch 6/100\n",
            "53/53 [==============================] - 0s 3ms/step - loss: 0.5553 - acc: 0.7547 - val_loss: 0.7618 - val_acc: 0.5556\n",
            "\n",
            "Epoch 00006: saving model to ./model/weights.06.hdf5\n",
            "Epoch 7/100\n",
            "53/53 [==============================] - 0s 3ms/step - loss: 0.4804 - acc: 0.8868 - val_loss: 0.6145 - val_acc: 0.5926\n",
            "\n",
            "Epoch 00007: saving model to ./model/weights.07.hdf5\n",
            "Epoch 8/100\n",
            "53/53 [==============================] - 0s 3ms/step - loss: 0.4029 - acc: 0.7925 - val_loss: 1.1368 - val_acc: 0.5556\n",
            "\n",
            "Epoch 00008: saving model to ./model/weights.08.hdf5\n",
            "Epoch 9/100\n",
            "53/53 [==============================] - 0s 3ms/step - loss: 0.5336 - acc: 0.7547 - val_loss: 0.7162 - val_acc: 0.5926\n",
            "\n",
            "Epoch 00009: saving model to ./model/weights.09.hdf5\n",
            "Epoch 10/100\n",
            "53/53 [==============================] - 0s 3ms/step - loss: 0.4059 - acc: 0.8113 - val_loss: 0.7145 - val_acc: 0.5926\n",
            "\n",
            "Epoch 00010: saving model to ./model/weights.10.hdf5\n",
            "Epoch 11/100\n",
            "53/53 [==============================] - 0s 3ms/step - loss: 0.4160 - acc: 0.8302 - val_loss: 0.6449 - val_acc: 0.6667\n",
            "\n",
            "Epoch 00011: saving model to ./model/weights.11.hdf5\n",
            "Epoch 12/100\n",
            "53/53 [==============================] - 0s 3ms/step - loss: 0.2638 - acc: 0.9057 - val_loss: 0.7642 - val_acc: 0.6667\n",
            "\n",
            "Epoch 00012: saving model to ./model/weights.12.hdf5\n",
            "Epoch 13/100\n",
            "53/53 [==============================] - 0s 3ms/step - loss: 0.3132 - acc: 0.8679 - val_loss: 0.9478 - val_acc: 0.5926\n",
            "\n",
            "Epoch 00013: saving model to ./model/weights.13.hdf5\n",
            "Epoch 14/100\n",
            "53/53 [==============================] - 0s 3ms/step - loss: 0.3120 - acc: 0.8868 - val_loss: 0.6290 - val_acc: 0.5926\n",
            "\n",
            "Epoch 00014: saving model to ./model/weights.14.hdf5\n",
            "Epoch 15/100\n",
            "53/53 [==============================] - 0s 3ms/step - loss: 0.2925 - acc: 0.8679 - val_loss: 0.6674 - val_acc: 0.7407\n",
            "\n",
            "Epoch 00015: saving model to ./model/weights.15.hdf5\n",
            "Epoch 16/100\n",
            "53/53 [==============================] - 0s 3ms/step - loss: 0.2125 - acc: 0.9623 - val_loss: 0.6362 - val_acc: 0.6667\n",
            "\n",
            "Epoch 00016: saving model to ./model/weights.16.hdf5\n",
            "Epoch 17/100\n",
            "53/53 [==============================] - 0s 3ms/step - loss: 0.1332 - acc: 0.9811 - val_loss: 0.7731 - val_acc: 0.7037\n",
            "\n",
            "Epoch 00017: saving model to ./model/weights.17.hdf5\n",
            "Epoch 18/100\n",
            "53/53 [==============================] - 0s 3ms/step - loss: 0.1159 - acc: 0.9811 - val_loss: 1.1598 - val_acc: 0.6667\n",
            "\n",
            "Epoch 00018: saving model to ./model/weights.18.hdf5\n",
            "Epoch 19/100\n",
            "53/53 [==============================] - 0s 3ms/step - loss: 0.1819 - acc: 0.9434 - val_loss: 0.8511 - val_acc: 0.6296\n",
            "\n",
            "Epoch 00019: saving model to ./model/weights.19.hdf5\n",
            "Epoch 20/100\n",
            "53/53 [==============================] - 0s 3ms/step - loss: 0.1200 - acc: 0.9811 - val_loss: 0.8614 - val_acc: 0.6667\n",
            "\n",
            "Epoch 00020: saving model to ./model/weights.20.hdf5\n",
            "Epoch 21/100\n",
            "53/53 [==============================] - 0s 3ms/step - loss: 0.1911 - acc: 0.9057 - val_loss: 0.7596 - val_acc: 0.7407\n",
            "\n",
            "Epoch 00021: saving model to ./model/weights.21.hdf5\n",
            "Epoch 22/100\n",
            "53/53 [==============================] - 0s 3ms/step - loss: 0.0827 - acc: 0.9811 - val_loss: 0.7876 - val_acc: 0.7037\n",
            "\n",
            "Epoch 00022: saving model to ./model/weights.22.hdf5\n",
            "Epoch 23/100\n",
            "53/53 [==============================] - 0s 3ms/step - loss: 0.1213 - acc: 0.9623 - val_loss: 0.8309 - val_acc: 0.6296\n",
            "\n",
            "Epoch 00023: saving model to ./model/weights.23.hdf5\n",
            "Epoch 24/100\n",
            "53/53 [==============================] - 0s 3ms/step - loss: 0.1072 - acc: 0.9623 - val_loss: 1.0376 - val_acc: 0.7407\n",
            "\n",
            "Epoch 00024: saving model to ./model/weights.24.hdf5\n",
            "Epoch 25/100\n",
            "53/53 [==============================] - 0s 3ms/step - loss: 0.1924 - acc: 0.9623 - val_loss: 0.7352 - val_acc: 0.7037\n",
            "\n",
            "Epoch 00025: saving model to ./model/weights.25.hdf5\n",
            "Epoch 26/100\n",
            "53/53 [==============================] - 0s 3ms/step - loss: 0.0650 - acc: 0.9811 - val_loss: 0.7857 - val_acc: 0.7037\n",
            "\n",
            "Epoch 00026: saving model to ./model/weights.26.hdf5\n",
            "Epoch 27/100\n",
            "53/53 [==============================] - 0s 3ms/step - loss: 0.1485 - acc: 0.9245 - val_loss: 0.7088 - val_acc: 0.7037\n",
            "\n",
            "Epoch 00027: saving model to ./model/weights.27.hdf5\n",
            "Epoch 28/100\n",
            "53/53 [==============================] - 0s 3ms/step - loss: 0.0716 - acc: 0.9811 - val_loss: 0.8489 - val_acc: 0.6667\n",
            "\n",
            "Epoch 00028: saving model to ./model/weights.28.hdf5\n",
            "Epoch 29/100\n",
            "53/53 [==============================] - 0s 3ms/step - loss: 0.0282 - acc: 1.0000 - val_loss: 0.9481 - val_acc: 0.7037\n",
            "\n",
            "Epoch 00029: saving model to ./model/weights.29.hdf5\n",
            "Epoch 30/100\n",
            "53/53 [==============================] - 0s 3ms/step - loss: 0.1316 - acc: 0.9434 - val_loss: 0.9264 - val_acc: 0.6296\n",
            "\n",
            "Epoch 00030: saving model to ./model/weights.30.hdf5\n",
            "Epoch 31/100\n",
            "53/53 [==============================] - 0s 3ms/step - loss: 0.0764 - acc: 0.9811 - val_loss: 0.9800 - val_acc: 0.6667\n",
            "\n",
            "Epoch 00031: saving model to ./model/weights.31.hdf5\n",
            "Epoch 32/100\n",
            "53/53 [==============================] - 0s 3ms/step - loss: 0.0511 - acc: 0.9811 - val_loss: 0.9341 - val_acc: 0.6667\n",
            "\n",
            "Epoch 00032: saving model to ./model/weights.32.hdf5\n",
            "Epoch 33/100\n",
            "53/53 [==============================] - 0s 3ms/step - loss: 0.0265 - acc: 1.0000 - val_loss: 1.0094 - val_acc: 0.6296\n",
            "\n",
            "Epoch 00033: saving model to ./model/weights.33.hdf5\n",
            "Epoch 34/100\n",
            "53/53 [==============================] - 0s 3ms/step - loss: 0.0375 - acc: 1.0000 - val_loss: 1.0239 - val_acc: 0.6667\n",
            "\n",
            "Epoch 00034: saving model to ./model/weights.34.hdf5\n",
            "Epoch 35/100\n",
            "53/53 [==============================] - 0s 3ms/step - loss: 0.0660 - acc: 0.9623 - val_loss: 0.9140 - val_acc: 0.7037\n",
            "\n",
            "Epoch 00035: saving model to ./model/weights.35.hdf5\n",
            "Epoch 36/100\n",
            "53/53 [==============================] - 0s 3ms/step - loss: 0.0261 - acc: 1.0000 - val_loss: 1.0754 - val_acc: 0.6667\n",
            "\n",
            "Epoch 00036: saving model to ./model/weights.36.hdf5\n",
            "Epoch 37/100\n",
            "53/53 [==============================] - 0s 4ms/step - loss: 0.0611 - acc: 0.9811 - val_loss: 1.1158 - val_acc: 0.6667\n",
            "\n",
            "Epoch 00037: saving model to ./model/weights.37.hdf5\n",
            "Epoch 38/100\n",
            "53/53 [==============================] - 0s 3ms/step - loss: 0.0325 - acc: 1.0000 - val_loss: 1.1514 - val_acc: 0.6667\n",
            "\n",
            "Epoch 00038: saving model to ./model/weights.38.hdf5\n",
            "Epoch 39/100\n",
            "53/53 [==============================] - 0s 3ms/step - loss: 0.0145 - acc: 1.0000 - val_loss: 1.1771 - val_acc: 0.6667\n",
            "\n",
            "Epoch 00039: saving model to ./model/weights.39.hdf5\n",
            "Epoch 40/100\n",
            "53/53 [==============================] - 0s 3ms/step - loss: 0.0181 - acc: 1.0000 - val_loss: 1.1998 - val_acc: 0.6667\n",
            "\n",
            "Epoch 00040: saving model to ./model/weights.40.hdf5\n",
            "Epoch 41/100\n",
            "53/53 [==============================] - 0s 3ms/step - loss: 0.0568 - acc: 0.9623 - val_loss: 1.1251 - val_acc: 0.6667\n",
            "\n",
            "Epoch 00041: saving model to ./model/weights.41.hdf5\n",
            "Epoch 42/100\n",
            "53/53 [==============================] - 0s 3ms/step - loss: 0.0264 - acc: 1.0000 - val_loss: 1.1686 - val_acc: 0.6667\n",
            "\n",
            "Epoch 00042: saving model to ./model/weights.42.hdf5\n",
            "Epoch 43/100\n",
            "53/53 [==============================] - 0s 3ms/step - loss: 0.0079 - acc: 1.0000 - val_loss: 1.2092 - val_acc: 0.6667\n",
            "\n",
            "Epoch 00043: saving model to ./model/weights.43.hdf5\n",
            "Epoch 44/100\n",
            "53/53 [==============================] - 0s 3ms/step - loss: 0.0134 - acc: 1.0000 - val_loss: 1.2970 - val_acc: 0.7037\n",
            "\n",
            "Epoch 00044: saving model to ./model/weights.44.hdf5\n",
            "Epoch 45/100\n",
            "53/53 [==============================] - 0s 3ms/step - loss: 0.0102 - acc: 1.0000 - val_loss: 1.3647 - val_acc: 0.6667\n",
            "\n",
            "Epoch 00045: saving model to ./model/weights.45.hdf5\n",
            "Epoch 46/100\n",
            "53/53 [==============================] - 0s 3ms/step - loss: 0.0197 - acc: 1.0000 - val_loss: 1.2538 - val_acc: 0.6667\n",
            "\n",
            "Epoch 00046: saving model to ./model/weights.46.hdf5\n",
            "Epoch 47/100\n",
            "53/53 [==============================] - 0s 3ms/step - loss: 0.0166 - acc: 1.0000 - val_loss: 1.2731 - val_acc: 0.7037\n",
            "\n",
            "Epoch 00047: saving model to ./model/weights.47.hdf5\n",
            "Epoch 48/100\n",
            "53/53 [==============================] - 0s 3ms/step - loss: 0.0066 - acc: 1.0000 - val_loss: 1.3192 - val_acc: 0.7037\n",
            "\n",
            "Epoch 00048: saving model to ./model/weights.48.hdf5\n",
            "Epoch 49/100\n",
            "53/53 [==============================] - 0s 3ms/step - loss: 0.0024 - acc: 1.0000 - val_loss: 1.3457 - val_acc: 0.7037\n",
            "\n",
            "Epoch 00049: saving model to ./model/weights.49.hdf5\n",
            "Epoch 50/100\n",
            "53/53 [==============================] - 0s 3ms/step - loss: 0.0162 - acc: 1.0000 - val_loss: 1.3856 - val_acc: 0.6667\n",
            "\n",
            "Epoch 00050: saving model to ./model/weights.50.hdf5\n",
            "Epoch 51/100\n",
            "53/53 [==============================] - 0s 3ms/step - loss: 0.0126 - acc: 1.0000 - val_loss: 1.2872 - val_acc: 0.6667\n",
            "\n",
            "Epoch 00051: saving model to ./model/weights.51.hdf5\n",
            "Epoch 52/100\n",
            "53/53 [==============================] - 0s 3ms/step - loss: 0.0032 - acc: 1.0000 - val_loss: 1.3343 - val_acc: 0.6667\n",
            "\n",
            "Epoch 00052: saving model to ./model/weights.52.hdf5\n",
            "Epoch 53/100\n",
            "53/53 [==============================] - 0s 3ms/step - loss: 0.0083 - acc: 1.0000 - val_loss: 1.3703 - val_acc: 0.6667\n",
            "\n",
            "Epoch 00053: saving model to ./model/weights.53.hdf5\n",
            "Epoch 54/100\n",
            "53/53 [==============================] - 0s 3ms/step - loss: 0.0248 - acc: 0.9811 - val_loss: 1.8063 - val_acc: 0.6296\n",
            "\n",
            "Epoch 00054: saving model to ./model/weights.54.hdf5\n",
            "Epoch 55/100\n",
            "53/53 [==============================] - 0s 3ms/step - loss: 0.0259 - acc: 1.0000 - val_loss: 1.3135 - val_acc: 0.6667\n",
            "\n",
            "Epoch 00055: saving model to ./model/weights.55.hdf5\n",
            "Epoch 56/100\n",
            "53/53 [==============================] - 0s 3ms/step - loss: 0.0034 - acc: 1.0000 - val_loss: 1.3575 - val_acc: 0.6667\n",
            "\n",
            "Epoch 00056: saving model to ./model/weights.56.hdf5\n",
            "Epoch 57/100\n",
            "53/53 [==============================] - 0s 3ms/step - loss: 0.0154 - acc: 1.0000 - val_loss: 1.3876 - val_acc: 0.7037\n",
            "\n",
            "Epoch 00057: saving model to ./model/weights.57.hdf5\n",
            "Epoch 58/100\n",
            "53/53 [==============================] - 0s 3ms/step - loss: 0.0156 - acc: 1.0000 - val_loss: 1.3699 - val_acc: 0.7037\n",
            "\n",
            "Epoch 00058: saving model to ./model/weights.58.hdf5\n",
            "Epoch 59/100\n",
            "53/53 [==============================] - 0s 3ms/step - loss: 0.0095 - acc: 1.0000 - val_loss: 1.3998 - val_acc: 0.7037\n",
            "\n",
            "Epoch 00059: saving model to ./model/weights.59.hdf5\n",
            "Epoch 60/100\n",
            "53/53 [==============================] - 0s 3ms/step - loss: 0.0173 - acc: 0.9811 - val_loss: 1.6508 - val_acc: 0.6296\n",
            "\n",
            "Epoch 00060: saving model to ./model/weights.60.hdf5\n",
            "Epoch 61/100\n",
            "53/53 [==============================] - 0s 3ms/step - loss: 0.0078 - acc: 1.0000 - val_loss: 1.4316 - val_acc: 0.7037\n",
            "\n",
            "Epoch 00061: saving model to ./model/weights.61.hdf5\n",
            "Epoch 62/100\n",
            "53/53 [==============================] - 0s 3ms/step - loss: 0.0289 - acc: 1.0000 - val_loss: 1.3280 - val_acc: 0.7037\n",
            "\n",
            "Epoch 00062: saving model to ./model/weights.62.hdf5\n",
            "Epoch 63/100\n",
            "53/53 [==============================] - 0s 3ms/step - loss: 0.0115 - acc: 1.0000 - val_loss: 1.4043 - val_acc: 0.6667\n",
            "\n",
            "Epoch 00063: saving model to ./model/weights.63.hdf5\n",
            "Epoch 64/100\n",
            "53/53 [==============================] - 0s 3ms/step - loss: 0.0137 - acc: 1.0000 - val_loss: 1.3910 - val_acc: 0.7037\n",
            "\n",
            "Epoch 00064: saving model to ./model/weights.64.hdf5\n",
            "Epoch 65/100\n",
            "53/53 [==============================] - 0s 3ms/step - loss: 0.0274 - acc: 0.9811 - val_loss: 1.4354 - val_acc: 0.6667\n",
            "\n",
            "Epoch 00065: saving model to ./model/weights.65.hdf5\n",
            "Epoch 66/100\n",
            "53/53 [==============================] - 0s 3ms/step - loss: 0.0045 - acc: 1.0000 - val_loss: 1.4184 - val_acc: 0.7037\n",
            "\n",
            "Epoch 00066: saving model to ./model/weights.66.hdf5\n",
            "Epoch 67/100\n",
            "53/53 [==============================] - 0s 3ms/step - loss: 0.0031 - acc: 1.0000 - val_loss: 1.4456 - val_acc: 0.7037\n",
            "\n",
            "Epoch 00067: saving model to ./model/weights.67.hdf5\n",
            "Epoch 68/100\n",
            "53/53 [==============================] - 0s 3ms/step - loss: 0.0028 - acc: 1.0000 - val_loss: 1.4561 - val_acc: 0.6667\n",
            "\n",
            "Epoch 00068: saving model to ./model/weights.68.hdf5\n",
            "Epoch 69/100\n",
            "53/53 [==============================] - 0s 3ms/step - loss: 0.0075 - acc: 1.0000 - val_loss: 1.4928 - val_acc: 0.7037\n",
            "\n",
            "Epoch 00069: saving model to ./model/weights.69.hdf5\n",
            "Epoch 70/100\n",
            "53/53 [==============================] - 0s 3ms/step - loss: 0.0113 - acc: 1.0000 - val_loss: 1.6352 - val_acc: 0.6667\n",
            "\n",
            "Epoch 00070: saving model to ./model/weights.70.hdf5\n",
            "Epoch 71/100\n",
            "53/53 [==============================] - 0s 3ms/step - loss: 0.0060 - acc: 1.0000 - val_loss: 1.5786 - val_acc: 0.7037\n",
            "\n",
            "Epoch 00071: saving model to ./model/weights.71.hdf5\n",
            "Epoch 72/100\n",
            "53/53 [==============================] - 0s 3ms/step - loss: 0.0019 - acc: 1.0000 - val_loss: 1.6011 - val_acc: 0.7037\n",
            "\n",
            "Epoch 00072: saving model to ./model/weights.72.hdf5\n",
            "Epoch 73/100\n",
            "53/53 [==============================] - 0s 3ms/step - loss: 0.0044 - acc: 1.0000 - val_loss: 1.6460 - val_acc: 0.7037\n",
            "\n",
            "Epoch 00073: saving model to ./model/weights.73.hdf5\n",
            "Epoch 74/100\n",
            "53/53 [==============================] - 0s 3ms/step - loss: 0.0019 - acc: 1.0000 - val_loss: 1.6736 - val_acc: 0.7037\n",
            "\n",
            "Epoch 00074: saving model to ./model/weights.74.hdf5\n",
            "Epoch 75/100\n",
            "53/53 [==============================] - 0s 3ms/step - loss: 0.0058 - acc: 1.0000 - val_loss: 1.6989 - val_acc: 0.7037\n",
            "\n",
            "Epoch 00075: saving model to ./model/weights.75.hdf5\n",
            "Epoch 76/100\n",
            "53/53 [==============================] - 0s 3ms/step - loss: 0.0023 - acc: 1.0000 - val_loss: 1.7324 - val_acc: 0.7037\n",
            "\n",
            "Epoch 00076: saving model to ./model/weights.76.hdf5\n",
            "Epoch 77/100\n",
            "53/53 [==============================] - 0s 3ms/step - loss: 0.0014 - acc: 1.0000 - val_loss: 1.7406 - val_acc: 0.7037\n",
            "\n",
            "Epoch 00077: saving model to ./model/weights.77.hdf5\n",
            "Epoch 78/100\n",
            "53/53 [==============================] - 0s 3ms/step - loss: 0.0047 - acc: 1.0000 - val_loss: 1.7867 - val_acc: 0.7037\n",
            "\n",
            "Epoch 00078: saving model to ./model/weights.78.hdf5\n",
            "Epoch 79/100\n",
            "53/53 [==============================] - 0s 3ms/step - loss: 0.0039 - acc: 1.0000 - val_loss: 1.7899 - val_acc: 0.7037\n",
            "\n",
            "Epoch 00079: saving model to ./model/weights.79.hdf5\n",
            "Epoch 80/100\n",
            "53/53 [==============================] - 0s 3ms/step - loss: 0.0021 - acc: 1.0000 - val_loss: 1.7647 - val_acc: 0.6667\n",
            "\n",
            "Epoch 00080: saving model to ./model/weights.80.hdf5\n",
            "Epoch 81/100\n",
            "53/53 [==============================] - 0s 3ms/step - loss: 0.0062 - acc: 1.0000 - val_loss: 1.8507 - val_acc: 0.7037\n",
            "\n",
            "Epoch 00081: saving model to ./model/weights.81.hdf5\n",
            "Epoch 82/100\n",
            "53/53 [==============================] - 0s 3ms/step - loss: 0.0016 - acc: 1.0000 - val_loss: 1.8185 - val_acc: 0.7037\n",
            "\n",
            "Epoch 00082: saving model to ./model/weights.82.hdf5\n",
            "Epoch 83/100\n",
            "53/53 [==============================] - 0s 4ms/step - loss: 0.0088 - acc: 1.0000 - val_loss: 1.9133 - val_acc: 0.6296\n",
            "\n",
            "Epoch 00083: saving model to ./model/weights.83.hdf5\n",
            "Epoch 84/100\n",
            "53/53 [==============================] - 0s 3ms/step - loss: 0.0054 - acc: 1.0000 - val_loss: 1.8899 - val_acc: 0.6296\n",
            "\n",
            "Epoch 00084: saving model to ./model/weights.84.hdf5\n",
            "Epoch 85/100\n",
            "53/53 [==============================] - 0s 3ms/step - loss: 0.0093 - acc: 1.0000 - val_loss: 1.7003 - val_acc: 0.6667\n",
            "\n",
            "Epoch 00085: saving model to ./model/weights.85.hdf5\n",
            "Epoch 86/100\n",
            "53/53 [==============================] - 0s 3ms/step - loss: 0.0015 - acc: 1.0000 - val_loss: 1.7318 - val_acc: 0.6667\n",
            "\n",
            "Epoch 00086: saving model to ./model/weights.86.hdf5\n",
            "Epoch 87/100\n",
            "53/53 [==============================] - 0s 3ms/step - loss: 0.0033 - acc: 1.0000 - val_loss: 1.7549 - val_acc: 0.6667\n",
            "\n",
            "Epoch 00087: saving model to ./model/weights.87.hdf5\n",
            "Epoch 88/100\n",
            "53/53 [==============================] - 0s 4ms/step - loss: 0.0016 - acc: 1.0000 - val_loss: 1.7849 - val_acc: 0.6667\n",
            "\n",
            "Epoch 00088: saving model to ./model/weights.88.hdf5\n",
            "Epoch 89/100\n",
            "53/53 [==============================] - 0s 3ms/step - loss: 0.0043 - acc: 1.0000 - val_loss: 1.8498 - val_acc: 0.7037\n",
            "\n",
            "Epoch 00089: saving model to ./model/weights.89.hdf5\n",
            "Epoch 90/100\n",
            "53/53 [==============================] - 0s 3ms/step - loss: 0.0064 - acc: 1.0000 - val_loss: 1.8967 - val_acc: 0.7037\n",
            "\n",
            "Epoch 00090: saving model to ./model/weights.90.hdf5\n",
            "Epoch 91/100\n",
            "53/53 [==============================] - 0s 3ms/step - loss: 4.0947e-04 - acc: 1.0000 - val_loss: 1.8935 - val_acc: 0.7037\n",
            "\n",
            "Epoch 00091: saving model to ./model/weights.91.hdf5\n",
            "Epoch 92/100\n",
            "53/53 [==============================] - 0s 3ms/step - loss: 0.0014 - acc: 1.0000 - val_loss: 1.9390 - val_acc: 0.7037\n",
            "\n",
            "Epoch 00092: saving model to ./model/weights.92.hdf5\n",
            "Epoch 93/100\n",
            "53/53 [==============================] - 0s 3ms/step - loss: 0.0016 - acc: 1.0000 - val_loss: 1.9051 - val_acc: 0.7037\n",
            "\n",
            "Epoch 00093: saving model to ./model/weights.93.hdf5\n",
            "Epoch 94/100\n",
            "53/53 [==============================] - 0s 3ms/step - loss: 6.0064e-04 - acc: 1.0000 - val_loss: 1.9048 - val_acc: 0.7037\n",
            "\n",
            "Epoch 00094: saving model to ./model/weights.94.hdf5\n",
            "Epoch 95/100\n",
            "53/53 [==============================] - 0s 3ms/step - loss: 3.6513e-04 - acc: 1.0000 - val_loss: 1.8986 - val_acc: 0.6667\n",
            "\n",
            "Epoch 00095: saving model to ./model/weights.95.hdf5\n",
            "Epoch 96/100\n",
            "53/53 [==============================] - 0s 3ms/step - loss: 8.6582e-04 - acc: 1.0000 - val_loss: 1.8977 - val_acc: 0.6667\n",
            "\n",
            "Epoch 00096: saving model to ./model/weights.96.hdf5\n",
            "Epoch 97/100\n",
            "53/53 [==============================] - 0s 3ms/step - loss: 0.0012 - acc: 1.0000 - val_loss: 1.9292 - val_acc: 0.7037\n",
            "\n",
            "Epoch 00097: saving model to ./model/weights.97.hdf5\n",
            "Epoch 98/100\n",
            "53/53 [==============================] - 0s 3ms/step - loss: 7.0196e-04 - acc: 1.0000 - val_loss: 1.9391 - val_acc: 0.7037\n",
            "\n",
            "Epoch 00098: saving model to ./model/weights.98.hdf5\n",
            "Epoch 99/100\n",
            "53/53 [==============================] - 0s 3ms/step - loss: 0.0018 - acc: 1.0000 - val_loss: 2.0178 - val_acc: 0.7037\n",
            "\n",
            "Epoch 00099: saving model to ./model/weights.99.hdf5\n",
            "Epoch 100/100\n",
            "53/53 [==============================] - 0s 3ms/step - loss: 0.0015 - acc: 1.0000 - val_loss: 1.9832 - val_acc: 0.7037\n",
            "\n",
            "Epoch 00100: saving model to ./model/weights.100.hdf5\n",
            "elapsed_time:27.777146339416504[sec]\n"
          ],
          "name": "stdout"
        }
      ]
    },
    {
      "cell_type": "markdown",
      "metadata": {
        "id": "ELuHBiwnGIk7",
        "colab_type": "text"
      },
      "source": [
        "## 学習結果の可視化"
      ]
    },
    {
      "cell_type": "markdown",
      "metadata": {
        "id": "Pgkov1_yG5WJ",
        "colab_type": "text"
      },
      "source": [
        "acc（精度）を確認します。accが訓練データでの精度で、この値が高いほど良い性能を意味します。\n",
        "例えば0.5だと50%の正解率ということになります。\n",
        "\n",
        "val_accというのが訓練に使っていないテストデータを使っての精度です。  \n",
        "いわゆる、本当の精度と言われるものは、val_accの方となります。"
      ]
    },
    {
      "cell_type": "code",
      "metadata": {
        "id": "8nKjkoxfG7Ox",
        "colab_type": "code",
        "outputId": "a79e0d47-9128-4610-97b8-c082b50ee44f",
        "colab": {
          "base_uri": "https://localhost:8080/",
          "height": 376
        }
      },
      "source": [
        "plt.plot(history.history['acc'])\n",
        "plt.plot(history.history['val_acc'])\n",
        "plt.title('model accuracy')\n",
        "plt.xlabel('epoch')\n",
        "plt.ylabel('accuracy')\n",
        "plt.legend(['acc', 'val_acc'], loc='lower right')\n",
        "plt.show()"
      ],
      "execution_count": 0,
      "outputs": [
        {
          "output_type": "display_data",
          "data": {
            "image/png": "[encoded data removed]",
            "text/plain": [
              "<Figure size 576x396 with 1 Axes>"
            ]
          },
          "metadata": {
            "tags": []
          }
        }
      ]
    },
    {
      "cell_type": "markdown",
      "metadata": {
        "id": "_ZbIQD0KHgFt",
        "colab_type": "text"
      },
      "source": [
        "lossを確認します。見方はaccと同じです。  \n",
        "こちらの値は低いほど良い性能を示します。"
      ]
    },
    {
      "cell_type": "code",
      "metadata": {
        "id": "5Oz6q5XnQGEW",
        "colab_type": "code",
        "outputId": "f36e7fde-f9d0-4712-fdbb-68d0a35347bc",
        "colab": {
          "base_uri": "https://localhost:8080/",
          "height": 376
        }
      },
      "source": [
        "plt.plot(history.history['loss'])\n",
        "plt.plot(history.history['val_loss'])\n",
        "plt.title('model loss')\n",
        "plt.ylabel('loss')\n",
        "plt.xlabel('epoch')\n",
        "plt.legend(['loss', 'val_loss'], loc='upper left')\n",
        "plt.show()"
      ],
      "execution_count": 0,
      "outputs": [
        {
          "output_type": "display_data",
          "data": {
            "image/png": "[encoded data removed]",
            "text/plain": [
              "<Figure size 576x396 with 1 Axes>"
            ]
          },
          "metadata": {
            "tags": []
          }
        }
      ]
    },
    {
      "cell_type": "markdown",
      "metadata": {
        "id": "_vWiax4zg70l",
        "colab_type": "text"
      },
      "source": [
        "## 学習させたモデルを使った推定\n",
        "\n",
        "学習させたモデルを使って、画像の推定を行います"
      ]
    },
    {
      "cell_type": "markdown",
      "metadata": {
        "id": "G3iRGJkeIalZ",
        "colab_type": "text"
      },
      "source": [
        "ライブラリのインポートをします"
      ]
    },
    {
      "cell_type": "code",
      "metadata": {
        "id": "pGMNTIqyQzwt",
        "colab_type": "code",
        "colab": {}
      },
      "source": [
        "import numpy as np\n",
        "from keras.preprocessing.image import array_to_img, img_to_array, load_img\n",
        "from keras.models import model_from_json"
      ],
      "execution_count": 0,
      "outputs": []
    },
    {
      "cell_type": "markdown",
      "metadata": {
        "id": "nSBi2tunIgg-",
        "colab_type": "text"
      },
      "source": [
        "ラベルを読み込みます"
      ]
    },
    {
      "cell_type": "code",
      "metadata": {
        "id": "cg0aj5TKIfh4",
        "colab_type": "code",
        "outputId": "b2a0406f-0e06-465e-82dd-9a3e94b4be72",
        "colab": {
          "base_uri": "https://localhost:8080/",
          "height": 34
        }
      },
      "source": [
        "labels = []\n",
        "with open(backup_dir + '/labels.txt','r') as f:\n",
        "    for line in f:\n",
        "        labels.append(line.rstrip())\n",
        "print(labels)"
      ],
      "execution_count": 0,
      "outputs": [
        {
          "output_type": "stream",
          "text": [
            "['camera', 'cat']\n"
          ],
          "name": "stdout"
        }
      ]
    },
    {
      "cell_type": "markdown",
      "metadata": {
        "id": "EqFy0zGdIt4h",
        "colab_type": "text"
      },
      "source": [
        "モデルと学習データを確認します"
      ]
    },
    {
      "cell_type": "code",
      "metadata": {
        "id": "7Wbqla4vIwU0",
        "colab_type": "code",
        "outputId": "4ffcccd0-10b8-4ae9-9a04-ad62994b5335",
        "colab": {
          "base_uri": "https://localhost:8080/",
          "height": 459
        }
      },
      "source": [
        "!ls ./model"
      ],
      "execution_count": 0,
      "outputs": [
        {
          "output_type": "stream",
          "text": [
            "labels.txt\t       weights.23.hdf5\tweights.49.hdf5  weights.75.hdf5\n",
            "mnist_deep_model.json  weights.24.hdf5\tweights.50.hdf5  weights.76.hdf5\n",
            "tensorBoard\t       weights.25.hdf5\tweights.51.hdf5  weights.77.hdf5\n",
            "weights.01.hdf5        weights.26.hdf5\tweights.52.hdf5  weights.78.hdf5\n",
            "weights.02.hdf5        weights.27.hdf5\tweights.53.hdf5  weights.79.hdf5\n",
            "weights.03.hdf5        weights.28.hdf5\tweights.54.hdf5  weights.80.hdf5\n",
            "weights.04.hdf5        weights.29.hdf5\tweights.55.hdf5  weights.81.hdf5\n",
            "weights.05.hdf5        weights.30.hdf5\tweights.56.hdf5  weights.82.hdf5\n",
            "weights.06.hdf5        weights.31.hdf5\tweights.57.hdf5  weights.83.hdf5\n",
            "weights.07.hdf5        weights.32.hdf5\tweights.58.hdf5  weights.84.hdf5\n",
            "weights.08.hdf5        weights.33.hdf5\tweights.59.hdf5  weights.85.hdf5\n",
            "weights.09.hdf5        weights.34.hdf5\tweights.60.hdf5  weights.86.hdf5\n",
            "weights.100.hdf5       weights.35.hdf5\tweights.61.hdf5  weights.87.hdf5\n",
            "weights.10.hdf5        weights.36.hdf5\tweights.62.hdf5  weights.88.hdf5\n",
            "weights.11.hdf5        weights.37.hdf5\tweights.63.hdf5  weights.89.hdf5\n",
            "weights.12.hdf5        weights.38.hdf5\tweights.64.hdf5  weights.90.hdf5\n",
            "weights.13.hdf5        weights.39.hdf5\tweights.65.hdf5  weights.91.hdf5\n",
            "weights.14.hdf5        weights.40.hdf5\tweights.66.hdf5  weights.92.hdf5\n",
            "weights.15.hdf5        weights.41.hdf5\tweights.67.hdf5  weights.93.hdf5\n",
            "weights.16.hdf5        weights.42.hdf5\tweights.68.hdf5  weights.94.hdf5\n",
            "weights.17.hdf5        weights.43.hdf5\tweights.69.hdf5  weights.95.hdf5\n",
            "weights.18.hdf5        weights.44.hdf5\tweights.70.hdf5  weights.96.hdf5\n",
            "weights.19.hdf5        weights.45.hdf5\tweights.71.hdf5  weights.97.hdf5\n",
            "weights.20.hdf5        weights.46.hdf5\tweights.72.hdf5  weights.98.hdf5\n",
            "weights.21.hdf5        weights.47.hdf5\tweights.73.hdf5  weights.99.hdf5\n",
            "weights.22.hdf5        weights.48.hdf5\tweights.74.hdf5\n"
          ],
          "name": "stdout"
        }
      ]
    },
    {
      "cell_type": "markdown",
      "metadata": {
        "id": "2_56VnwaIl9b",
        "colab_type": "text"
      },
      "source": [
        "モデルや学習結果を読み込みます"
      ]
    },
    {
      "cell_type": "code",
      "metadata": {
        "id": "QaoeOFeeIo3E",
        "colab_type": "code",
        "outputId": "f1fad1c1-464b-430e-8867-5eb4d7f92c41",
        "colab": {
          "base_uri": "https://localhost:8080/",
          "height": 544
        }
      },
      "source": [
        "# モデルを読み込む\n",
        "model_pred = model_from_json(open(backup_dir + '/mnist_deep_model.json').read())\n",
        "\n",
        "# 学習結果を読み込む\n",
        "model_pred.load_weights(backup_dir + '/weights.99.hdf5')\n",
        "\n",
        "model_pred.summary();"
      ],
      "execution_count": 0,
      "outputs": [
        {
          "output_type": "stream",
          "text": [
            "_________________________________________________________________\n",
            "Layer (type)                 Output Shape              Param #   \n",
            "=================================================================\n",
            "conv2d_1 (Conv2D)            (None, 64, 64, 32)        896       \n",
            "_________________________________________________________________\n",
            "activation_1 (Activation)    (None, 64, 64, 32)        0         \n",
            "_________________________________________________________________\n",
            "conv2d_2 (Conv2D)            (None, 62, 62, 64)        18496     \n",
            "_________________________________________________________________\n",
            "activation_2 (Activation)    (None, 62, 62, 64)        0         \n",
            "_________________________________________________________________\n",
            "max_pooling2d_1 (MaxPooling2 (None, 31, 31, 64)        0         \n",
            "_________________________________________________________________\n",
            "dropout_1 (Dropout)          (None, 31, 31, 64)        0         \n",
            "_________________________________________________________________\n",
            "flatten_1 (Flatten)          (None, 61504)             0         \n",
            "_________________________________________________________________\n",
            "dense_1 (Dense)              (None, 128)               7872640   \n",
            "_________________________________________________________________\n",
            "activation_3 (Activation)    (None, 128)               0         \n",
            "_________________________________________________________________\n",
            "dropout_2 (Dropout)          (None, 128)               0         \n",
            "_________________________________________________________________\n",
            "dense_2 (Dense)              (None, 2)                 258       \n",
            "_________________________________________________________________\n",
            "activation_4 (Activation)    (None, 2)                 0         \n",
            "=================================================================\n",
            "Total params: 7,892,290\n",
            "Trainable params: 7,892,290\n",
            "Non-trainable params: 0\n",
            "_________________________________________________________________\n"
          ],
          "name": "stdout"
        }
      ]
    },
    {
      "cell_type": "markdown",
      "metadata": {
        "id": "8s2sZnWxgRLi",
        "colab_type": "text"
      },
      "source": [
        "判別したい画像（test.jpg）をアップロードします"
      ]
    },
    {
      "cell_type": "code",
      "metadata": {
        "id": "4_lACxTthOfZ",
        "colab_type": "code",
        "colab": {}
      },
      "source": [
        "from google.colab import files\n",
        "uploaded = files.upload()"
      ],
      "execution_count": 0,
      "outputs": []
    },
    {
      "cell_type": "markdown",
      "metadata": {
        "id": "9DL_ka1k8o67",
        "colab_type": "text"
      },
      "source": [
        "もしくは、以下でダウンロードして下さい"
      ]
    },
    {
      "cell_type": "code",
      "metadata": {
        "id": "kNCNA2yk8bVr",
        "colab_type": "code",
        "outputId": "bdf93871-9492-46b5-acac-83e7b223a6c7",
        "colab": {
          "base_uri": "https://localhost:8080/",
          "height": 289
        }
      },
      "source": [
        "!wget https://github.com/karaage0703/keras-pi/raw/master/data/test.jpg"
      ],
      "execution_count": 0,
      "outputs": [
        {
          "output_type": "stream",
          "text": [
            "--2019-02-19 04:14:03--  https://github.com/karaage0703/keras-pi/raw/master/data/test.jpg\n",
            "Resolving github.com (github.com)... 192.30.253.113, 192.30.253.112\n",
            "Connecting to github.com (github.com)|192.30.253.113|:443... connected.\n",
            "HTTP request sent, awaiting response... 302 Found\n",
            "Location: https://raw.githubusercontent.com/karaage0703/keras-pi/master/data/test.jpg [following]\n",
            "--2019-02-19 04:14:04--  https://raw.githubusercontent.com/karaage0703/keras-pi/master/data/test.jpg\n",
            "Resolving raw.githubusercontent.com (raw.githubusercontent.com)... 151.101.0.133, 151.101.64.133, 151.101.128.133, ...\n",
            "Connecting to raw.githubusercontent.com (raw.githubusercontent.com)|151.101.0.133|:443... connected.\n",
            "HTTP request sent, awaiting response... 200 OK\n",
            "Length: 19941 (19K) [image/jpeg]\n",
            "Saving to: ‘test.jpg’\n",
            "\n",
            "test.jpg            100%[===================>]  19.47K  --.-KB/s    in 0.01s   \n",
            "\n",
            "2019-02-19 04:14:04 (1.55 MB/s) - ‘test.jpg’ saved [19941/19941]\n",
            "\n"
          ],
          "name": "stdout"
        }
      ]
    },
    {
      "cell_type": "markdown",
      "metadata": {
        "id": "6rSaKAVgDWPU",
        "colab_type": "text"
      },
      "source": [
        "判別したい画像を確認します"
      ]
    },
    {
      "cell_type": "code",
      "metadata": {
        "id": "W-g7P-PChjQ2",
        "colab_type": "code",
        "outputId": "abff454d-1fac-4150-e4f7-99b878b6363c",
        "colab": {
          "base_uri": "https://localhost:8080/",
          "height": 202
        }
      },
      "source": [
        "from IPython.display import Image,display_jpeg\n",
        "display_jpeg(Image('test.jpg'))"
      ],
      "execution_count": 0,
      "outputs": [
        {
          "output_type": "display_data",
          "data": {
            "image/jpeg": "[encoded data removed]"
          },
          "metadata": {
            "tags": []
          }
        }
      ]
    },
    {
      "cell_type": "markdown",
      "metadata": {
        "id": "Z87Ovf0qieWV",
        "colab_type": "text"
      },
      "source": [
        "画像のフォーマット変換をします"
      ]
    },
    {
      "cell_type": "code",
      "metadata": {
        "id": "YAX9adKJhxnU",
        "colab_type": "code",
        "outputId": "de44d62e-d057-4d97-ae1e-66ff1c4556d1",
        "colab": {
          "base_uri": "https://localhost:8080/",
          "height": 34
        }
      },
      "source": [
        "X = []\n",
        "img_path = './test.jpg'\n",
        "img = img_to_array(load_img(img_path, target_size=(64,64)))\n",
        "X.append(img)\n",
        "X = np.asarray(X)\n",
        "print(X.shape)"
      ],
      "execution_count": 0,
      "outputs": [
        {
          "output_type": "stream",
          "text": [
            "(1, 64, 64, 3)\n"
          ],
          "name": "stdout"
        }
      ]
    },
    {
      "cell_type": "markdown",
      "metadata": {
        "id": "q3pAmzwrJmGq",
        "colab_type": "text"
      },
      "source": [
        "推論を行います"
      ]
    },
    {
      "cell_type": "code",
      "metadata": {
        "id": "sm7K0CWyjcTf",
        "colab_type": "code",
        "outputId": "7f9d13a6-e1d3-433b-d027-fc611d6903f0",
        "colab": {
          "base_uri": "https://localhost:8080/",
          "height": 34
        }
      },
      "source": [
        "preds = model_pred.predict(X)\n",
        "\n",
        "pred_label = \"\"\n",
        "\n",
        "label_num = 0\n",
        "for i in preds[0]:\n",
        "    if i == 1.0:\n",
        "        pred_label = labels[label_num]\n",
        "    label_num += 1\n",
        "\n",
        "print(pred_label)"
      ],
      "execution_count": 0,
      "outputs": [
        {
          "output_type": "stream",
          "text": [
            "camera\n"
          ],
          "name": "stdout"
        }
      ]
    },
    {
      "cell_type": "markdown",
      "metadata": {
        "id": "D_3CZvc0JwHj",
        "colab_type": "text"
      },
      "source": [
        "これで学習から推論まで終わりです。\n",
        "学習パラメータ（ハイパーパラメータ）変更などして、学習の様子がどう変わるか見てみましょう"
      ]
    },
    {
      "cell_type": "markdown",
      "metadata": {
        "id": "yD25Q-GQOmdg",
        "colab_type": "text"
      },
      "source": [
        "## 学習モデルのダウンロード\n",
        "\n",
        "Google Colaboratory上のファイルは、自動的に消えてしまうのでファイルを保存します"
      ]
    },
    {
      "cell_type": "code",
      "metadata": {
        "id": "-9XaD5giFAcN",
        "colab_type": "code",
        "outputId": "064ea66f-bf39-4cb3-9fe1-60ff98cfea42",
        "colab": {
          "base_uri": "https://localhost:8080/",
          "height": 459
        }
      },
      "source": [
        "!ls ./model"
      ],
      "execution_count": 0,
      "outputs": [
        {
          "output_type": "stream",
          "text": [
            "labels.txt\t       weights.23.hdf5\tweights.49.hdf5  weights.75.hdf5\n",
            "mnist_deep_model.json  weights.24.hdf5\tweights.50.hdf5  weights.76.hdf5\n",
            "tensorBoard\t       weights.25.hdf5\tweights.51.hdf5  weights.77.hdf5\n",
            "weights.01.hdf5        weights.26.hdf5\tweights.52.hdf5  weights.78.hdf5\n",
            "weights.02.hdf5        weights.27.hdf5\tweights.53.hdf5  weights.79.hdf5\n",
            "weights.03.hdf5        weights.28.hdf5\tweights.54.hdf5  weights.80.hdf5\n",
            "weights.04.hdf5        weights.29.hdf5\tweights.55.hdf5  weights.81.hdf5\n",
            "weights.05.hdf5        weights.30.hdf5\tweights.56.hdf5  weights.82.hdf5\n",
            "weights.06.hdf5        weights.31.hdf5\tweights.57.hdf5  weights.83.hdf5\n",
            "weights.07.hdf5        weights.32.hdf5\tweights.58.hdf5  weights.84.hdf5\n",
            "weights.08.hdf5        weights.33.hdf5\tweights.59.hdf5  weights.85.hdf5\n",
            "weights.09.hdf5        weights.34.hdf5\tweights.60.hdf5  weights.86.hdf5\n",
            "weights.100.hdf5       weights.35.hdf5\tweights.61.hdf5  weights.87.hdf5\n",
            "weights.10.hdf5        weights.36.hdf5\tweights.62.hdf5  weights.88.hdf5\n",
            "weights.11.hdf5        weights.37.hdf5\tweights.63.hdf5  weights.89.hdf5\n",
            "weights.12.hdf5        weights.38.hdf5\tweights.64.hdf5  weights.90.hdf5\n",
            "weights.13.hdf5        weights.39.hdf5\tweights.65.hdf5  weights.91.hdf5\n",
            "weights.14.hdf5        weights.40.hdf5\tweights.66.hdf5  weights.92.hdf5\n",
            "weights.15.hdf5        weights.41.hdf5\tweights.67.hdf5  weights.93.hdf5\n",
            "weights.16.hdf5        weights.42.hdf5\tweights.68.hdf5  weights.94.hdf5\n",
            "weights.17.hdf5        weights.43.hdf5\tweights.69.hdf5  weights.95.hdf5\n",
            "weights.18.hdf5        weights.44.hdf5\tweights.70.hdf5  weights.96.hdf5\n",
            "weights.19.hdf5        weights.45.hdf5\tweights.71.hdf5  weights.97.hdf5\n",
            "weights.20.hdf5        weights.46.hdf5\tweights.72.hdf5  weights.98.hdf5\n",
            "weights.21.hdf5        weights.47.hdf5\tweights.73.hdf5  weights.99.hdf5\n",
            "weights.22.hdf5        weights.48.hdf5\tweights.74.hdf5\n"
          ],
          "name": "stdout"
        }
      ]
    },
    {
      "cell_type": "code",
      "metadata": {
        "id": "CR_L1ay0Oq9c",
        "colab_type": "code",
        "outputId": "bff556e5-55d1-490d-f163-9a74a04d5611",
        "colab": {
          "base_uri": "https://localhost:8080/",
          "height": 68
        }
      },
      "source": [
        "!tar cvzf model.tar.gz ./model/weights.99.hdf5 ./model/labels.txt ./model/mnist_deep_model.json"
      ],
      "execution_count": 0,
      "outputs": [
        {
          "output_type": "stream",
          "text": [
            "./model/weights.99.hdf5\n",
            "./model/labels.txt\n",
            "./model/mnist_deep_model.json\n"
          ],
          "name": "stdout"
        }
      ]
    },
    {
      "cell_type": "code",
      "metadata": {
        "id": "v8BHywsnKqlA",
        "colab_type": "code",
        "colab": {}
      },
      "source": [
        "from google.colab import files\n",
        "files.download(\"model.tar.gz\")"
      ],
      "execution_count": 0,
      "outputs": []
    },
    {
      "cell_type": "markdown",
      "metadata": {
        "id": "OIbGdwiXNv7K",
        "colab_type": "text"
      },
      "source": [
        "## GPUを使った学習"
      ]
    },
    {
      "cell_type": "markdown",
      "metadata": {
        "id": "pXbB1lMON10A",
        "colab_type": "text"
      },
      "source": [
        "GPUを使って学習してみます。  \n",
        "上のメニューから「ランタイム」 ->  「ランタイムのタイプの変更」 -> ハードウェアアクセラレータをGPUに変更します"
      ]
    },
    {
      "cell_type": "markdown",
      "metadata": {
        "id": "44T2sLlMAg2i",
        "colab_type": "text"
      },
      "source": [
        "GPUの情報を確認します"
      ]
    },
    {
      "cell_type": "code",
      "metadata": {
        "id": "3aaN0Kj7Anv8",
        "colab_type": "code",
        "colab": {}
      },
      "source": [
        "import tensorflow as tf\n",
        "tf.test.gpu_device_name()"
      ],
      "execution_count": 0,
      "outputs": []
    },
    {
      "cell_type": "markdown",
      "metadata": {
        "id": "c6zO2O1XAtxy",
        "colab_type": "text"
      },
      "source": [
        "マシンのスペックを確認してみます（CPU）"
      ]
    },
    {
      "cell_type": "code",
      "metadata": {
        "id": "1BpKyEypAtGQ",
        "colab_type": "code",
        "colab": {}
      },
      "source": [
        "!cat /proc/cpuinfo"
      ],
      "execution_count": 0,
      "outputs": []
    },
    {
      "cell_type": "markdown",
      "metadata": {
        "id": "vmbnHV4sA37w",
        "colab_type": "text"
      },
      "source": [
        "GPUのスペックも確認しましょう"
      ]
    },
    {
      "cell_type": "code",
      "metadata": {
        "id": "0Bm947PAA6G9",
        "colab_type": "code",
        "colab": {}
      },
      "source": [
        "!cat /proc/driver/nvidia/gpus/0000:00:04.0/information"
      ],
      "execution_count": 0,
      "outputs": []
    },
    {
      "cell_type": "markdown",
      "metadata": {
        "id": "DBi1VNt7Js8F",
        "colab_type": "text"
      },
      "source": [
        "## ニューラルネットワークの変更"
      ]
    },
    {
      "cell_type": "markdown",
      "metadata": {
        "id": "nCqzGfQ6J6KU",
        "colab_type": "text"
      },
      "source": [
        "学習に使うニューラルネットワーク。MNISTという手書き認識に使うものを使っていましたが  \n",
        "少し深めのニューラルネットワークを組んでみました  "
      ]
    },
    {
      "cell_type": "code",
      "metadata": {
        "id": "LRfPeO4XlTzs",
        "colab_type": "code",
        "colab": {}
      },
      "source": [
        "model = Sequential()\n",
        "\n",
        "model.add(Conv2D(32, (3, 3), padding='same', \n",
        "                 input_shape=X_train.shape[1:]))\n",
        "model.add(Activation('relu'))\n",
        "model.add(Conv2D(32, (3, 3)))\n",
        "model.add(Activation('relu'))\n",
        "model.add(MaxPooling2D(pool_size=(2, 2)))\n",
        "model.add(Dropout(0.25))\n",
        "\n",
        "model.add(Conv2D(64, (3, 3), padding='same'))\n",
        "model.add(Activation('relu'))\n",
        "model.add(Conv2D(64, (3, 3)))\n",
        "model.add(Activation('relu'))\n",
        "model.add(MaxPooling2D(pool_size=(3, 3)))\n",
        "model.add(Dropout(0.25))\n",
        "\n",
        "model.add(Flatten())\n",
        "model.add(Dense(512))\n",
        "model.add(Activation('relu'))\n",
        "model.add(Dropout(0.5))\n",
        "\n",
        "model.add(Dense(NUM_CLASSES))\n",
        "model.add(Activation('softmax'))\n",
        "\n",
        "model.compile(loss='categorical_crossentropy',\n",
        "              optimizer='adam',\n",
        "              metrics=['accuracy'])"
      ],
      "execution_count": 0,
      "outputs": []
    },
    {
      "cell_type": "markdown",
      "metadata": {
        "id": "xMgqvGjdNlky",
        "colab_type": "text"
      },
      "source": [
        "モデルの中身を確認します"
      ]
    },
    {
      "cell_type": "code",
      "metadata": {
        "id": "tiK75iD9NmA9",
        "colab_type": "code",
        "colab": {}
      },
      "source": [
        "model.summary()"
      ],
      "execution_count": 0,
      "outputs": []
    },
    {
      "cell_type": "markdown",
      "metadata": {
        "id": "fDXau4zRNiUU",
        "colab_type": "text"
      },
      "source": [
        "学習します"
      ]
    },
    {
      "cell_type": "code",
      "metadata": {
        "id": "g7XLWTX8wOZ6",
        "colab_type": "code",
        "colab": {}
      },
      "source": [
        "history = model.fit(X_train, y_train, batch_size=BATCH_SIZE, epochs=EPOCHS,\n",
        "                   validation_data = (X_test, y_test), verbose = 1)"
      ],
      "execution_count": 0,
      "outputs": []
    },
    {
      "cell_type": "markdown",
      "metadata": {
        "id": "Hh9wCAYkGvq8",
        "colab_type": "text"
      },
      "source": [
        "## データのN増し\n",
        "\n",
        "精度を上げるために、教師データをN増しします"
      ]
    },
    {
      "cell_type": "markdown",
      "metadata": {
        "id": "KsLjA5gkG9_o",
        "colab_type": "text"
      },
      "source": [
        "ライブラリのインポート"
      ]
    },
    {
      "cell_type": "code",
      "metadata": {
        "id": "WVViQ3clG0nF",
        "colab_type": "code",
        "colab": {}
      },
      "source": [
        "import cv2\n",
        "import numpy as np\n",
        "import sys\n",
        "import os"
      ],
      "execution_count": 0,
      "outputs": []
    },
    {
      "cell_type": "markdown",
      "metadata": {
        "id": "-87oybCYHEWp",
        "colab_type": "text"
      },
      "source": [
        "N増し用の画像処理の関数定義"
      ]
    },
    {
      "cell_type": "code",
      "metadata": {
        "id": "jYq5zenvHMZz",
        "colab_type": "code",
        "colab": {}
      },
      "source": [
        "# ヒストグラム均一化\n",
        "def equalizeHistRGB(src):\n",
        "\n",
        "    RGB = cv2.split(src)\n",
        "    Blue   = RGB[0]\n",
        "    Green = RGB[1]\n",
        "    Red    = RGB[2]\n",
        "    for i in range(3):\n",
        "        cv2.equalizeHist(RGB[i])\n",
        "\n",
        "    img_hist = cv2.merge([RGB[0],RGB[1], RGB[2]])\n",
        "    return img_hist\n",
        "\n",
        "# ガウシアンノイズ\n",
        "def addGaussianNoise(src):\n",
        "    row,col,ch= src.shape\n",
        "    mean = 0\n",
        "    var = 0.1\n",
        "    sigma = 15\n",
        "    gauss = np.random.normal(mean,sigma,(row,col,ch))\n",
        "    gauss = gauss.reshape(row,col,ch)\n",
        "    noisy = src + gauss\n",
        "\n",
        "    return noisy\n",
        "\n",
        "# salt&pepperノイズ\n",
        "def addSaltPepperNoise(src):\n",
        "    row,col,ch = src.shape\n",
        "    s_vs_p = 0.5\n",
        "    amount = 0.004\n",
        "    out = src.copy()\n",
        "    # Salt mode\n",
        "    num_salt = np.ceil(amount * src.size * s_vs_p)\n",
        "    coords = [np.random.randint(0, i-1 , int(num_salt))\n",
        "                 for i in src.shape]\n",
        "    out[coords[:-1]] = (255,255,255)\n",
        "\n",
        "    # Pepper mode\n",
        "    num_pepper = np.ceil(amount* src.size * (1. - s_vs_p))\n",
        "    coords = [np.random.randint(0, i-1 , int(num_pepper))\n",
        "             for i in src.shape]\n",
        "    out[coords[:-1]] = (0,0,0)\n",
        "    return out"
      ],
      "execution_count": 0,
      "outputs": []
    },
    {
      "cell_type": "markdown",
      "metadata": {
        "id": "3XoJpo6OHgnA",
        "colab_type": "text"
      },
      "source": [
        "画像ファイルパスのリストを生成"
      ]
    },
    {
      "cell_type": "code",
      "metadata": {
        "id": "So0ADhPbHhCX",
        "colab_type": "code",
        "colab": {}
      },
      "source": [
        "labels = []\n",
        "with open(backup_dir + '/labels.txt','r') as f:\n",
        "    for line in f:\n",
        "        labels.append(line.rstrip())\n",
        "print(labels)\n",
        "\n",
        "image_file_names = []\n",
        "\n",
        "for label in labels:\n",
        "  image_dirs = cmd('ls '+'./image_data/' + label).decode('utf-8')\n",
        "  image_files = image_dirs.splitlines()\n",
        "  for image_file in image_files:\n",
        "    image_file_names.append('./image_data/' + label + '/' + image_file)\n",
        "    \n",
        "print(image_file_names)"
      ],
      "execution_count": 0,
      "outputs": []
    },
    {
      "cell_type": "markdown",
      "metadata": {
        "id": "yim0JbIduMxo",
        "colab_type": "text"
      },
      "source": [
        "画像データをN増しします（数分時間がかかります）"
      ]
    },
    {
      "cell_type": "code",
      "metadata": {
        "id": "MtkuYjNCHQxp",
        "colab_type": "code",
        "colab": {}
      },
      "source": [
        "# ルックアップテーブルの生成\n",
        "min_table = 50\n",
        "max_table = 205\n",
        "diff_table = max_table - min_table\n",
        "gamma1 = 0.75\n",
        "gamma2 = 1.5\n",
        "\n",
        "LUT_HC = np.arange(256, dtype = 'uint8' )\n",
        "LUT_LC = np.arange(256, dtype = 'uint8' )\n",
        "LUT_G1 = np.arange(256, dtype = 'uint8' )\n",
        "LUT_G2 = np.arange(256, dtype = 'uint8' )\n",
        "\n",
        "LUTs = []\n",
        "\n",
        "# 平滑化用\n",
        "average_square = (10,10)\n",
        "\n",
        "# ハイコントラストLUT作成\n",
        "for i in range(0, min_table):\n",
        "  LUT_HC[i] = 0\n",
        "\n",
        "for i in range(min_table, max_table):\n",
        "  LUT_HC[i] = 255 * (i - min_table) / diff_table\n",
        "\n",
        "for i in range(max_table, 255):\n",
        "  LUT_HC[i] = 255\n",
        "\n",
        "# その他LUT作成\n",
        "for i in range(256):\n",
        "  LUT_LC[i] = min_table + i * (diff_table) / 255\n",
        "  LUT_G1[i] = 255 * pow(float(i) / 255, 1.0 / gamma1)\n",
        "  LUT_G2[i] = 255 * pow(float(i) / 255, 1.0 / gamma2)\n",
        "\n",
        "LUTs.append(LUT_HC)\n",
        "LUTs.append(LUT_LC)\n",
        "LUTs.append(LUT_G1)\n",
        "LUTs.append(LUT_G2)\n",
        "\n",
        "\n",
        "for image_file in image_file_names:\n",
        "#  print(image_file)\n",
        "  # 画像の読み込み\n",
        "  img_src = cv2.imread(image_file, 1)\n",
        "  trans_img = []\n",
        "  trans_img.append(img_src)\n",
        "\n",
        "  # LUT変換\n",
        "  for i, LUT in enumerate(LUTs):\n",
        "    trans_img.append(cv2.LUT(img_src, LUT))\n",
        "\n",
        "\t# 平滑化\n",
        "  trans_img.append(cv2.blur(img_src, average_square))\n",
        "\n",
        "\t# ヒストグラム均一化\n",
        "  trans_img.append(equalizeHistRGB(img_src))\n",
        "\n",
        "\t# ノイズ付加\n",
        "  trans_img.append(addGaussianNoise(img_src))\n",
        "  trans_img.append(addSaltPepperNoise(img_src))\n",
        "\n",
        "\t# 反転\n",
        "  flip_img = []\n",
        "  for img in trans_img:\n",
        "     flip_img.append(cv2.flip(img, 1))\n",
        "  trans_img.extend(flip_img)\n",
        "\n",
        "  dir_name =  os.path.splitext(os.path.dirname(image_file))[0]\n",
        "  base_name =  os.path.splitext(os.path.basename(image_file))[0]\n",
        "  img_src.astype(np.float64)\n",
        "  \n",
        "  for i, img in enumerate(trans_img):\n",
        "    if i > 0:\n",
        "      #print(dir_name + '/trans_' + base_name + '_' + str(i-1) + '.jpg')\n",
        "      cv2.imwrite(dir_name + '/trans_' + base_name + '_' + str(i-1) + '.jpg' ,img)"
      ],
      "execution_count": 0,
      "outputs": []
    },
    {
      "cell_type": "markdown",
      "metadata": {
        "id": "cenhTQeBuJsx",
        "colab_type": "text"
      },
      "source": [
        "N増しされたデータの確認をします"
      ]
    },
    {
      "cell_type": "code",
      "metadata": {
        "id": "yWXNceLkNulh",
        "colab_type": "code",
        "colab": {}
      },
      "source": [
        "!ls ./image_data/camera"
      ],
      "execution_count": 0,
      "outputs": []
    },
    {
      "cell_type": "markdown",
      "metadata": {
        "id": "R3H26WGdKAze",
        "colab_type": "text"
      },
      "source": [
        "## 参考リンク"
      ]
    },
    {
      "cell_type": "markdown",
      "metadata": {
        "id": "F7UIdrA1KFlO",
        "colab_type": "text"
      },
      "source": [
        "- https://qiita.com/yampy/items/706d44417c433e68db0d\n",
        "- https://qiita.com/haru1977/items/17833e508fe07c004119\n",
        "- http://hatakazu.hatenablog.com/entry/2017/06/08/045953\n",
        "- http://aidiary.hatenablog.com/entry/20161212/1481549365\n",
        "- http://aidiary.hatenablog.com/entry/20161127/1480240182\n",
        "- https://qiita.com/Mco7777/items/2b76aba1bae35f2623ea"
      ]
    }
  ]
}